{
 "cells": [
  {
   "cell_type": "markdown",
   "metadata": {
    "slideshow": {
     "slide_type": "slide"
    }
   },
   "source": [
    "# Pandas 고급 - 2"
   ]
  },
  {
   "cell_type": "markdown",
   "metadata": {},
   "source": [
    "## Method Chaining\n",
    "\n",
    "method chaining은 동일한 객체에 대한 여러 메서드 호출을 단일 문으로 연결하는 것입니다."
   ]
  },
  {
   "cell_type": "markdown",
   "metadata": {},
   "source": [
    "method chaining 사용 않을 경우 다음과 같이 여러 줄로 coding하게 됩니다."
   ]
  },
  {
   "cell_type": "markdown",
   "metadata": {},
   "source": [
    "method chaining을 사용할 경우 한 줄로 코딩 가능합니다.  \n",
    "\n",
    "python은 `()`를 이용하면 여러 line 에 걸쳐 coding 가능합니다."
   ]
  },
  {
   "cell_type": "markdown",
   "metadata": {},
   "source": [
    "## groupby\n",
    "\n",
    "groupby는 하나 이상의 열을 기준으로 데이터 프레임을 그룹화한 다음 그룹에 집계 함수(또는 여러 집계 함수)를 적용할 수 있는 Pandas의 메서드입니다.\n",
    "\n",
    "groupby 를 사용하지 않고 for loop을 이용하여 wine quaility 등급별 평균 `fixed acidity`를 구해 봅니다.  "
   ]
  },
  {
   "cell_type": "markdown",
   "metadata": {},
   "source": [
    "group by 를 사용하여 wine quaility 등급별 평균 `fixed acidity`를 구해 봅니다."
   ]
  },
  {
   "cell_type": "markdown",
   "metadata": {},
   "source": [
    "### groupby + aggregate method 사용\n",
    "groupby() 함수는 \"집계\"를 의미하며 각 그룹에 적용할 함수를 하나 이상 지정할 수 있습니다.\n",
    "- agg : alias of aggretate"
   ]
  },
  {
   "cell_type": "markdown",
   "metadata": {},
   "source": [
    "`fixed acidity` 열에 np.mean 함수를 적용합니다."
   ]
  },
  {
   "cell_type": "markdown",
   "metadata": {},
   "source": [
    "## Scales (척도)\n",
    "\n",
    "- 명목 척도 (nominal scale): 말 그대로 이름뿐인 척도. 순서가 없는 Categorical data. (예. 남성, 여성, 동물 종류 등)\n",
    "\n",
    "- 순위 척도(ordinal scale) : 말 그대로 순위를 나타내는 척도 (예. 성적) \n",
    "\n",
    "- 등간 척도(interval scale): 척도간의 간격이 일정. 0 이 아무런 기준을 갖지 않음.(예. 온도)   \n",
    "\n",
    "- 비율 척도 (ratio scale): 절대 영점이 있는 등간 척도. 0 이 절대적인 기준이 되며 두 척도 사이에 비율이 존재. 우리가 사용하는 대부분의 척도 \n",
    "(예. 거리, 무게, 시간 등). 일반 numeric variable."
   ]
  },
  {
   "cell_type": "markdown",
   "metadata": {},
   "source": [
    "### Pandas 로 명목 척도 (Nominal Scale) 표현\n",
    "\n",
    "- 명목 변수 (Nominal Variable) 처리를 위한 Dummy Variable을 생성합니다\n",
    "- pd.get_dummies() method를 사용 합니다."
   ]
  },
  {
   "cell_type": "markdown",
   "metadata": {},
   "source": [
    "더미 변수 생성을 위해 중복된 value를 가진 Series를 생성합니다. "
   ]
  },
  {
   "cell_type": "markdown",
   "metadata": {},
   "source": [
    "### 순서가 있는 Category 변수(순위 척도) 표현\n",
    "\n",
    "다음과 같이 이름과 성적으로 구성된 DataFrame을 생성합니다."
   ]
  },
  {
   "cell_type": "markdown",
   "metadata": {},
   "source": [
    "순위척도 범주형 변수 표현을 위해 `Grades` column 을 순서가 있는 category column 으로 변환 합니다.  Pandas에서는 두가지 방법을 제공합니다. \n",
    "`pd.Categorical()` 과 `pd.factorize()`는 범주형 변수를 인코딩하는 데 사용되는 Pandas의 두 가지 메서드입니다.\n",
    "\n",
    "pd.Categorical은 판다스 데이터 프레임의 기존 열에서 범주형 변수를 만드는 데 사용됩니다. 범주형 변수를 나타내는 문자열 열이 있고 이를 범주형 데이터 유형으로 변환하려는 경우 유용할 수 있습니다.\n",
    "\n",
    "pd.factorize는 범주형 변수를 정수 값의 집합으로 인코딩하는 데 사용됩니다. 범주형 변수를 통계 모델에서 사용할 수 있는 숫자 데이터 유형으로 변환하려는 경우 유용할 수 있습니다."
   ]
  },
  {
   "cell_type": "markdown",
   "metadata": {},
   "source": [
    "`pd.Categorical()` 메서드를 이용하여 순위 변수의 dtype 을 category 로 변환합니다. 이 때 category의 순서를 정해 줍니다."
   ]
  },
  {
   "cell_type": "markdown",
   "metadata": {},
   "source": [
    "크기 순서가 지정되었으므로 크기 비교를 할 수 있습니다."
   ]
  },
  {
   "cell_type": "markdown",
   "metadata": {},
   "source": [
    "범주형 변수를 정수값으로 인코딩합니다."
   ]
  },
  {
   "cell_type": "markdown",
   "metadata": {},
   "source": [
    "인코딩한 값을 새로운 column으로 저장합니다."
   ]
  },
  {
   "cell_type": "markdown",
   "metadata": {},
   "source": [
    "### 등간척도 (interval scale) 표현 --> binning\n",
    "`pd.cut()`은 연속형 변수를 불연속형 간격으로 구간차원화할 수 있는 Pandas의 메서드입니다. 이 함수는 배열과 유사한 객체(예: Pandas series)를 입력으로 받아 입력 데이터의 구간차원을 나타내는 새로운 범주형 변수를 반환합니다."
   ]
  },
  {
   "cell_type": "markdown",
   "metadata": {},
   "source": [
    "`pd.cut()`을 이용하여 3 구간으로 구분합니다."
   ]
  },
  {
   "cell_type": "markdown",
   "metadata": {},
   "source": [
    "구간명을 부여할 수도 있습니다."
   ]
  },
  {
   "cell_type": "markdown",
   "metadata": {},
   "source": [
    "### category 변수 실습 \n",
    "와인 등급을 나타내는 `quality` column을 category 변수로 변환할 수 있고, 와인의 산도를 나타내는 `fixed acidity` column을 등간 척도로 구간화할 수 있습니다."
   ]
  },
  {
   "cell_type": "markdown",
   "metadata": {},
   "source": [
    "`quality` column을 category 변수로 변환합니다. "
   ]
  },
  {
   "cell_type": "markdown",
   "metadata": {},
   "source": [
    "fixed acidity 를 구간화 합니다."
   ]
  },
  {
   "cell_type": "markdown",
   "metadata": {},
   "source": [
    "## Pivot Tabels\n",
    "\n",
    "- 피벗 테이블은 하나 이상의 열에 따라 데이터를 그룹화하고 집계하여 데이터 프레임의 데이터를 요약하고 집계하는 방법입니다.\n",
    "\n",
    "- 여러 데이터 중에서 자신이 원하는 데이터만을 가지고 원하는 행과 열에 데이터를 배치하여 새로운 보고서를 만들 수 있습니다."
   ]
  },
  {
   "cell_type": "markdown",
   "metadata": {},
   "source": [
    "자동차 연비 data 를 불러옵니다."
   ]
  },
  {
   "cell_type": "markdown",
   "metadata": {},
   "source": [
    "### pivot table 작성예 1\n",
    "- 연도, 제작사 (`YEAR`, `Make`) 별로 평균 배터리용량 `(kw)` 을 보여주는 pivot table을 생성합니다.  \n",
    "\n",
    "- 연도를 index 로 하고, 제작사를 column 에 배치합니다.\n",
    "\n",
    "- pivot table의 value 는 해당연도 제작사 배터리 용량의 평균값을 표시 합니다."
   ]
  },
  {
   "cell_type": "markdown",
   "metadata": {},
   "source": [
    "### pivot table 작성 예 2\n",
    "\n",
    "- 위와 동일한 방법으로 평균과 최소량을 동시에 보여주는 pivot table을 생성합니다."
   ]
  },
  {
   "cell_type": "markdown",
   "metadata": {},
   "source": [
    "`margins = True`를 추가하면 aggfunc 별로 subtotal이  추가  됩니다."
   ]
  },
  {
   "cell_type": "markdown",
   "metadata": {},
   "source": [
    "## 연습 문제 - 2\n",
    "\n",
    "- 위의 cars.csv 파일의 column 명이 너무 길므로 column 명 중 `(kW)` 를 `kw` 로,  `CITY (kWh/100 km)` 을 `city-km` 으로 변경  \n",
    "\n",
    "- groupby 함수를 사용하여,  연도별 평균 배터리 용량(`kw`) 표시 (`Make` 무시)  \n",
    "\n",
    "- 연도, 제작사별로 평균 `city-km`을 보여주는 pivot table 작성 "
   ]
  },
  {
   "cell_type": "markdown",
   "metadata": {},
   "source": [
    "# 날자 data 처리 기능\n",
    "\n",
    "### Timestamp\n",
    "\n",
    "- Python 의 datetime 과 대부분의 경우 호환  \n",
    "\n",
    "- DatetimeIndex 로 사용"
   ]
  },
  {
   "cell_type": "markdown",
   "metadata": {},
   "source": [
    "파이썬의 내장 datetime 함수와 비교해 봅니다."
   ]
  },
  {
   "cell_type": "markdown",
   "metadata": {},
   "source": [
    "### DatetimeIndex\n",
    "DatetimeIndex를 가진 series를 생성해 봅니다."
   ]
  },
  {
   "cell_type": "markdown",
   "metadata": {},
   "source": [
    "### Datetime format 으로 convert\n",
    "\n",
    "- 다양한 현태의 날자 표현을 모두 `pd.to_datetime` method를 이용하여 DatetimeIndex로 변환"
   ]
  },
  {
   "cell_type": "markdown",
   "metadata": {},
   "source": [
    "### Timedelta\n",
    "\n",
    "시간 차이를 계산하는 함수 입니다."
   ]
  }
 ],
 "metadata": {
  "kernelspec": {
   "display_name": "Python 3 (ipykernel)",
   "language": "python",
   "name": "python3"
  },
  "language_info": {
   "codemirror_mode": {
    "name": "ipython",
    "version": 3
   },
   "file_extension": ".py",
   "mimetype": "text/x-python",
   "name": "python",
   "nbconvert_exporter": "python",
   "pygments_lexer": "ipython3",
   "version": "3.9.13"
  }
 },
 "nbformat": 4,
 "nbformat_minor": 2
}
