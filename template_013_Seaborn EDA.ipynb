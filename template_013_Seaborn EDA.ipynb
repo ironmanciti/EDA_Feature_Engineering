{
 "cells": [
  {
   "cell_type": "markdown",
   "metadata": {},
   "source": [
    "# Seaborn을 이용한 EDA\n",
    "\n",
    "seaborn을 이용하여 데이터의 특성과 관계를 파악하는 탐색적 데이터 분석(Exploratory Data Analysis, EDA)을 수행합니다"
   ]
  },
  {
   "cell_type": "markdown",
   "metadata": {},
   "source": [
    "### 타이타닉호 승객의 생존 여부 EDA\n",
    "\n",
    "타이타닉(Titanic)은 1912년 4월 15일 밤, 영국 해상에서 선종된 여객선으로 대서양을 가로질러 뉴욕으로 향하던 중 대부분의 승객과 선원이 사망한 비극적인 사건입니다. 타이타닉 데이터셋은 이러한 사건에서 탑승한 승객들의 정보를 담고 있는 데이터셋으로, 데이터 분석과 머신러닝 연습에 매우 적합한 데이터셋입니다.\n",
    "\n",
    "다양한 현태의 차트를 이용하여 생존과 관련된 변수를 시각화 합니다."
   ]
  },
  {
   "cell_type": "markdown",
   "metadata": {},
   "source": [
    "### barplot\n",
    "\n",
    "- 포인트 추정치 및 신뢰 구간을 직사각형 막대로 표시합니다. \n",
    "\n",
    "- 타이타닉호 남녀 성별 객실 등급별 생존 확률 표시"
   ]
  },
  {
   "cell_type": "markdown",
   "metadata": {},
   "source": [
    "일등성의 여성 승객이 가장 생존 확률 높고, 3 등석의 남성 승객 생존률이 가장 낮음을 알 수 있습니다."
   ]
  },
  {
   "cell_type": "markdown",
   "metadata": {},
   "source": [
    "### countplot\n",
    "\n",
    "- 막대를 사용하여 각 범주형 bin의 관측치 수를 표시합니다.  \n",
    "\n",
    "- 타이타닉호 객실 등급별 생존 sample 수 표시"
   ]
  },
  {
   "cell_type": "markdown",
   "metadata": {},
   "source": [
    "3등석의 탑승자 수가 1, 2등석 보다 2.5배 이상 많았지만 생존자 수는 오히려 1 등석 보다도 적었음을 알 수 있습니다. 따라서 1, 2 등석의 생존 확률이 3등석 보다 월등히 높음을 알 수 있습니다."
   ]
  },
  {
   "cell_type": "markdown",
   "metadata": {},
   "source": [
    "### pointplot\n",
    "\n",
    "pointplot 함수는 범주형 변수와 수치형 변수 간의 관계를 시각화하는 데 사용됩니다. pointplot 함수는 카테고리 변수를 x축으로, 수치형 변수를 y축으로 사용하여 데이터를 점으로 표시합니다. 또한, hue 인수를 사용하여 다른 변수를 추가할 수 있습니다.\n",
    "\n",
    "- 포인트 플롯은 산점도 포인트의 위치에 따른 숫자 변수의 중심 경향 추정치(평균, 중앙값)를 나타내며 오차 막대를 사용하여 해당 추정치 주변의 불확실성에 대한 일부 표시를 제공합니다.\n",
    "\n",
    "- 타이타닉호 남녀 성별, class 별 생존 확률의 변화 표시"
   ]
  },
  {
   "cell_type": "markdown",
   "metadata": {},
   "source": [
    "pointplot에서도 일등석 여성 승객의 생존율이 가장 높고, 3등석 남성 승객의 생존율이 가장 낮음을 볼 수 있습니다. 다만 남성의 경우 2등석과 3등석의 생존율이 크게 차이나지 않음을 알 수 있습니다."
   ]
  },
  {
   "cell_type": "markdown",
   "metadata": {},
   "source": [
    "## Wide Form 의 Data 표시\n",
    "\n",
    "- 대부분의 경우 세로로 길거나 tidy 한 dataset 이 선호되지만 wide-form dataset 의 경우 plot 을 가로로 표시할 수 있습니다."
   ]
  },
  {
   "cell_type": "markdown",
   "metadata": {},
   "source": [
    "붓꽃 데이터를 이용하여 boxplot을 가로로 시각화 해 봅니다."
   ]
  },
  {
   "cell_type": "markdown",
   "metadata": {},
   "source": [
    "violin plot을 가로로 표시해 봅니다."
   ]
  },
  {
   "cell_type": "markdown",
   "metadata": {},
   "source": [
    "4 개의 변수를 subplot으로 하나의 figure에 표시하면 어떤 특성이 붓꽃의 종을 구분하기 좋은 변수인지 쉽게 파악할 수 있습니다.  \n",
    "좋은 변수는 값의 구간이 다른 종과 겹치지 않는 변수입니다."
   ]
  },
  {
   "cell_type": "markdown",
   "metadata": {},
   "source": [
    "- setosa 종은petal length 와 petal width 특성에서 다른 종과 뚜렷이 구분이 됩니다.  versicola 와 virginica는 서로 겹치는 구간이 많아 구분하기 어려울 것 같습니다. "
   ]
  },
  {
   "cell_type": "markdown",
   "metadata": {},
   "source": [
    "## 선형 회귀 (Linear Relationship)\n",
    "\n",
    " regplot 함수는 두 개의 변수 간의 선형 관계를 시각화하는 데 사용됩니다. regplot 함수는 산점도 그래프와 회귀선을 함께 표시하여 두 변수 간의 선형 관계를 쉽게 파악할 수 있도록 합니다.\n",
    "\n",
    "    - regplot ()은 단순 선형 회귀 모델 피팅 및 플롯을 수행합니다. \n",
    "    - 95% confidence interval 을 함께 표시합니다."
   ]
  },
  {
   "cell_type": "markdown",
   "metadata": {},
   "source": [
    "tip column 을 대상으로 하여 total bill 에 대한 tip 금액을 예측합니다."
   ]
  },
  {
   "cell_type": "markdown",
   "metadata": {},
   "source": [
    "color, marker 종류 및 크기를 조절할 수 있습니다."
   ]
  },
  {
   "cell_type": "markdown",
   "metadata": {},
   "source": [
    "## Facet Grid\n",
    "\n",
    "다양한 조건에 따라 데이터를 분할하여 서브플롯으로 나타낼 수 있습니다. FacetGrid 객체를 생성하면, 그리드 객체에 데이터와 그리드를 구성하는 조건을 지정하여 사용자가 원하는 서브플롯을 만들 수 있습니다. 예를 들어, data 의 subset 으로 histogram 을 그려 비교를 매우 쉽게 할 수 있습니다.\n",
    "\n",
    "작성 순서는, \n",
    "1. FacetGrid에 데이터프레임과 구분할 row, col, hue 등을 전달해 객체 생성\n",
    "\n",
    "    - row : FacetGrid 의 row 정의  \n",
    "    - col : FacetGrid 의 column 정의\n",
    "    - hues : data 의 색 구분  \n",
    "    \n",
    "    \n",
    "2. 작성한 객체를 FacetGrid.map() 함수를 이용하여 실제 시각화. 따라서 각 column네 동일한 종류의 plot을 그려 비교합니다."
   ]
  },
  {
   "cell_type": "markdown",
   "metadata": {},
   "source": [
    "FacetGrid 객체의 `col=`로 구분한 변수를 파악합니다."
   ]
  },
  {
   "cell_type": "markdown",
   "metadata": {},
   "source": [
    "time별, 성별 histogram을 plot 합니다."
   ]
  },
  {
   "cell_type": "markdown",
   "metadata": {},
   "source": [
    "여성보다 남성이 더 tip을 많이 주고, 점심 보다 저녁에 더 tip 이 많음을 볼 수 있습니다."
   ]
  },
  {
   "cell_type": "markdown",
   "metadata": {},
   "source": [
    "남, 녀별로 흡연, 비흡연자의 전체 음식값 대비 tip 의 산점도를 plot 합니다."
   ]
  },
  {
   "cell_type": "markdown",
   "metadata": {},
   "source": [
    "남성이 흡연자/비흡연자 모두에서 tip 금액이 많음을 알 수 있습니다."
   ]
  },
  {
   "cell_type": "markdown",
   "metadata": {},
   "source": [
    "점심, 저녁의 식사값 대비 tip 비율을 비교해 봅니다."
   ]
  },
  {
   "cell_type": "markdown",
   "metadata": {},
   "source": [
    "점심, 저녁 공히 10~20 % 정도의 팁을 주고 있고 저녁에 가끔 후한 팁을 주고 있음을 알 수 있습니다."
   ]
  },
  {
   "cell_type": "markdown",
   "metadata": {},
   "source": [
    "`row=` 을 지정해 주면 figure의 row가 분리됩니다."
   ]
  },
  {
   "cell_type": "markdown",
   "metadata": {},
   "source": [
    "남, 녀 별로 점심, 저녁의 식사값 대비 tip 비율을 비교해 봅니다. 행에 성별을 지정하고 열에 time을 지정합니다."
   ]
  },
  {
   "cell_type": "markdown",
   "metadata": {},
   "source": [
    "남, 녀별, 점심 저녁별로 팁 비율의 큰 차이는 없으며 여성 손님의 빈도는 점심과 저녁에 큰 차이 없으나 남성은 점심보다 저녁 손님이 훨씬 많음을 알 수 있습니다."
   ]
  },
  {
   "cell_type": "markdown",
   "metadata": {},
   "source": [
    "## Pair Grid\n",
    "\n",
    "데이터셋에서 모든 변수 쌍 간의 관계를 보여주는 그래프입니다. PairGrid 객체를 생성하면, 그리드 객체에 데이터와 그리드를 구성하는 조건을 지정하여 사용자가 원하는 서브플롯을 만들 수 있습니다.\n",
    "\n",
    "- FacetGrid 와 차이점은 각 subplot 마다 다른 쌍의 변수를 사용한다는 것과 matrix 구조을 이루는 것입니다.\n",
    "\n",
    "\n",
    "- 사용법은 FacetGrid 와 같습니다. grid 객체를 초기화 하고 plot 함수를 mapping 시킵니다."
   ]
  },
  {
   "cell_type": "markdown",
   "metadata": {},
   "source": [
    "전체 변수의 pair 를 scatter plot 으로 그립니다."
   ]
  },
  {
   "cell_type": "markdown",
   "metadata": {},
   "source": [
    "다른 함수를 이용하여 대각선에 각 column 의 단변수 분포(univariate distribution)를 표시할 수도 있습니다.  \n",
    "\n",
    "예를 들어, 대각선은 histogram. 대각선 외에는 scatter plot 을 그리는 경우는 다음 과 같습니다."
   ]
  },
  {
   "cell_type": "markdown",
   "metadata": {},
   "source": [
    "hue parameter 에 species column 을 지정하면 한 pair plot 에 3 차원 정보를 표현할 수 있습니다."
   ]
  },
  {
   "cell_type": "markdown",
   "metadata": {},
   "source": [
    "- matrix 의 상삼각(map_upper)과 하삼각(map_lower)에 각각 다른 함수를 적용할 수도 있습니다."
   ]
  },
  {
   "cell_type": "markdown",
   "metadata": {},
   "source": [
    "## heatmap\n",
    "\n",
    "2차원 데이터의 행렬을 색상으로 표현하는 그래프입니다. 주로 상관관계 행렬, 공분산 행렬 등에서 사용되며, 데이터의 유사도를 시각적으로 파악할 수 있습니다."
   ]
  }
 ],
 "metadata": {
  "kernelspec": {
   "display_name": "Python 3 (ipykernel)",
   "language": "python",
   "name": "python3"
  },
  "language_info": {
   "codemirror_mode": {
    "name": "ipython",
    "version": 3
   },
   "file_extension": ".py",
   "mimetype": "text/x-python",
   "name": "python",
   "nbconvert_exporter": "python",
   "pygments_lexer": "ipython3",
   "version": "3.9.13"
  }
 },
 "nbformat": 4,
 "nbformat_minor": 2
}
