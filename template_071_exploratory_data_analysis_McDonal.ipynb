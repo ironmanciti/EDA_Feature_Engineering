{
 "cells": [
  {
   "cell_type": "markdown",
   "metadata": {},
   "source": [
    "# EDA - 맥도날드 메뉴 영양 분석\n",
    "\n",
    "- 이 데이터 세트는 아침 식사, 소고기 버거, 치킨 및 생선 샌드위치, 감자 튀김, 샐러드, 소다, 커피 및 차, 밀크 셰이크 및 디저트를 포함하여 미국 맥도날드 메뉴의 모든 메뉴 항목에 대한 영양 분석을 제공합니다."
   ]
  },
  {
   "cell_type": "markdown",
   "metadata": {},
   "source": [
    "### 어떤 food item 이 가장 나트륨(sodium) 함량이 높은지 분석"
   ]
  },
  {
   "cell_type": "markdown",
   "metadata": {},
   "source": [
    "### swarmplot - 점이 겹치지 않는 범주형 산점도"
   ]
  },
  {
   "cell_type": "markdown",
   "metadata": {},
   "source": [
    "- Chicken & Fish Category 에 3500 을 넘는 Sodium 이 있음  --> 어떤 item 인지 탐색"
   ]
  },
  {
   "cell_type": "markdown",
   "metadata": {},
   "source": [
    "- `Chicken & Fish Category `의 `Chicken McNuggets (40 piece)` item 이 가장 나트륨 함량이 높음."
   ]
  },
  {
   "cell_type": "markdown",
   "metadata": {},
   "source": [
    "### 단백질과 지방과의 상관 관계 탐색"
   ]
  },
  {
   "cell_type": "markdown",
   "metadata": {},
   "source": [
    "### 결론\n",
    "\n",
    "- 염분 과다 섭취를 피하기 위해 Chicken McNuggets (40 piece) 을 먹지 말고  \n",
    "- 단백질과 지방은 비례 관계가 있으므로 고지방 섭취를 피하기 위해 단백질이 적은 식품을 섭취"
   ]
  }
 ],
 "metadata": {
  "anaconda-cloud": {},
  "kernelspec": {
   "display_name": "Python 3 (ipykernel)",
   "language": "python",
   "name": "python3"
  },
  "language_info": {
   "codemirror_mode": {
    "name": "ipython",
    "version": 3
   },
   "file_extension": ".py",
   "mimetype": "text/x-python",
   "name": "python",
   "nbconvert_exporter": "python",
   "pygments_lexer": "ipython3",
   "version": "3.9.13"
  },
  "widgets": {
   "state": {},
   "version": "1.1.2"
  }
 },
 "nbformat": 4,
 "nbformat_minor": 2
}
