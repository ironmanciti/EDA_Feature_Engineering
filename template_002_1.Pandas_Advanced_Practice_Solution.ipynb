{
 "cells": [
  {
   "cell_type": "markdown",
   "metadata": {},
   "source": [
    "## 연습 문제 - 1\n",
    "\n",
    "\n",
    "- 다음과 같은 두개의 DataFrame 을 생성하고 하나의 DataFrame 으로 join\n",
    "\n",
    "### product DataFrame\n",
    "\n",
    "- productID를 index 로 사용하는 dataframe\n",
    "\n",
    "| productID | Price | Product | \n",
    "|:---:|:---:|:---:|\n",
    "| 4109| 5.0 | Sushi Roll | \n",
    "| 1412 | 0.5 | Egg |\n",
    "| 8931 | 1.5 | Bagel |\n",
    "\n",
    "### invoice DataFrame\n",
    "\n",
    "- sequence가 index인 dataframe\n",
    "\n",
    "<table>\n",
    "    <th></th>\n",
    "    <th>Customer</th>\n",
    "    <th>ProductId</th>\n",
    "    <th>Quantity</th>\n",
    "    <tr>\n",
    "    <td>0</td>\n",
    "     <td>ALi</td>\n",
    "     <td>4109</td>\n",
    "     <td>1</td>\n",
    "    </tr>\n",
    "    <tr>\n",
    "    <td>1</td>\n",
    "    <td>Eric</td>\n",
    "     <td>1412</td>\n",
    "     <td>12</td>\n",
    "     </tr>\n",
    "    <tr>\n",
    "     <td>2</td>\n",
    "    <td>Ande</td>\n",
    "     <td>8931</td>\n",
    "     <td>6</td>\n",
    "     </tr>\n",
    "    <tr>\n",
    "    <td>3</td>\n",
    "    <td>Sam</td>\n",
    "    <td>4109</td>   \n",
    "    <td>2</td>\n",
    "    </tr>\n",
    "</table>\n",
    "\n",
    "- productID를 기준으로 join"
   ]
  },
  {
   "cell_type": "markdown",
   "metadata": {},
   "source": [
    "## 연습 문제 - 2\n",
    "\n",
    "- 위의 cars.csv 파일의 column 명이 너무 길므로 column 명 중 `(kW)` 를 `kw` 로,  `CITY (kWh/100 km)` 을 `city-km` 으로 변경  \n",
    "\n",
    "- groupby 함수를 사용하여,  연도별 평균 배터리 용량(`kw`) 표시 (`Make` 무시)  \n",
    "\n",
    "- 연도, 제작사별로 평균 `city-km`을 보여주는 pivot table 작성 "
   ]
  }
 ],
 "metadata": {
  "kernelspec": {
   "display_name": "Python 3 (ipykernel)",
   "language": "python",
   "name": "python3"
  },
  "language_info": {
   "codemirror_mode": {
    "name": "ipython",
    "version": 3
   },
   "file_extension": ".py",
   "mimetype": "text/x-python",
   "name": "python",
   "nbconvert_exporter": "python",
   "pygments_lexer": "ipython3",
   "version": "3.9.13"
  }
 },
 "nbformat": 4,
 "nbformat_minor": 4
}
