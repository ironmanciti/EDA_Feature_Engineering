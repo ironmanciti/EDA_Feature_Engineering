{
 "cells": [
  {
   "cell_type": "markdown",
   "metadata": {
    "slideshow": {
     "slide_type": "slide"
    }
   },
   "source": [
    "# Pandas 고급 - 1"
   ]
  },
  {
   "cell_type": "markdown",
   "metadata": {},
   "source": [
    "와인을 구성하는 화학적 성분을 나타내는 데이터셋을 사용합니다."
   ]
  },
  {
   "cell_type": "markdown",
   "metadata": {},
   "source": [
    "### DataFrame 을 csv file 로 write"
   ]
  },
  {
   "cell_type": "markdown",
   "metadata": {},
   "source": [
    "원본 DataFrame의 특정 열만으로 새로운 DataFrame을 만들어 csv 파일로 저장합니다."
   ]
  },
  {
   "cell_type": "markdown",
   "metadata": {},
   "source": [
    "저장한 csv 파일을 읽어 들입니다."
   ]
  },
  {
   "cell_type": "markdown",
   "metadata": {},
   "source": [
    "### df.apply + lambda \n",
    "- 특정 column 에 함수의 반환값 저장"
   ]
  },
  {
   "cell_type": "markdown",
   "metadata": {},
   "source": [
    "익명 함수를 DataFrame에 적용하여 그 결과를 새로운 column에 저장합니다."
   ]
  },
  {
   "cell_type": "markdown",
   "metadata": {},
   "source": [
    "### lambda 보다 더 복잡한 함수 적용"
   ]
  },
  {
   "cell_type": "markdown",
   "metadata": {},
   "source": [
    "익명 함수로 처리하기 어려운 복잡한 알고리즘이 필요한 경우 별도의 함수를 선언하여 적용할 수 있습니다."
   ]
  },
  {
   "cell_type": "markdown",
   "metadata": {},
   "source": [
    "## DataFrame의 Indexing"
   ]
  },
  {
   "cell_type": "markdown",
   "metadata": {},
   "source": [
    "올림픽 경기에 참가한 국가들의 메달 수를 기록한 데이터셋을 읽어드립니다."
   ]
  },
  {
   "cell_type": "markdown",
   "metadata": {},
   "source": [
    "### column 명 변경\n",
    "- column 명을 사용자 친화적으로 변경  \n",
    "- 정규식(regular expression)을 지원하는 re 모듈을 이용하여 복잡한 column 명을 단순화 합니다."
   ]
  },
  {
   "cell_type": "markdown",
   "metadata": {},
   "source": [
    "단순화한 column명으로 DataFrame의 column 명을 업데이트 합니다."
   ]
  },
  {
   "cell_type": "markdown",
   "metadata": {},
   "source": [
    "### Boolean indexing\n",
    "\n",
    "- Boolean mask condition 으로 DataFrame을 검색하여 조건에 맞는 row 검색\n",
    "\n",
    "    - where : no value(NaN)를 포함하여 return  \n",
    "\n",
    "    - boolean indexing : no value를 제외하고 return"
   ]
  },
  {
   "cell_type": "markdown",
   "metadata": {},
   "source": [
    "특정 column에 대한 조건 check은 boolean 값을 반환합니다.\n",
    "\n",
    "하계올림픽 금메달을 1 개 이상 얻은 나라"
   ]
  },
  {
   "cell_type": "markdown",
   "metadata": {},
   "source": [
    "where 메소드를 이용하여 모든 NaN인 row 를 포함하는 DataFrame을 return 받습니다."
   ]
  },
  {
   "cell_type": "markdown",
   "metadata": {},
   "source": [
    "boolean indexing을 이용하여 조건에 맞는 row만의 DataFrame을 return 받습니다."
   ]
  },
  {
   "cell_type": "markdown",
   "metadata": {},
   "source": [
    "하계올림픽 금메달 1 개 이상 또는 동계올림픽 금메달 1 개 이상인 국가의 숫자를 골라냅니다."
   ]
  },
  {
   "cell_type": "markdown",
   "metadata": {},
   "source": [
    "하계올림픽 금메달은 없지만 동계올림픽 금메달 1 개 이상인 국가를 골라냅니다."
   ]
  },
  {
   "cell_type": "markdown",
   "metadata": {},
   "source": [
    "### 복사본 만들기 - 얕은 복사(shallow copy) / 깊은 복사(deep copy)\n",
    "\n",
    "- 얕은 복사 : 원본과 index/data 공유  \n",
    "- 깊은 복사 : 별도의 index/data 생성"
   ]
  },
  {
   "cell_type": "markdown",
   "metadata": {},
   "source": [
    "깊은 복사(Deep Copy) 는 객체의 내부 구조를 포함하여 객체를 복제하는 객체의 복사본으로, 복사본에 대한 변경 사항이 원본 객체에 영향을 미치지 않도록 합니다."
   ]
  },
  {
   "cell_type": "markdown",
   "metadata": {},
   "source": [
    "df2의 index를 country column으로 옮기고, 금메달 숫자의 역순으로 새로운 index 를 설정합니다."
   ]
  },
  {
   "cell_type": "markdown",
   "metadata": {},
   "source": [
    "원본 DataFrame의 index를 reset 합니다."
   ]
  },
  {
   "cell_type": "markdown",
   "metadata": {},
   "source": [
    "## 다중인덱싱 (Multi Index)\n",
    "\n",
    "- index 가 여러개일 경우 다중 인덱싱이 가능하다.  \n",
    "\n",
    "다중 인덱스를 가진 DataFrame을 생성합니다."
   ]
  },
  {
   "cell_type": "markdown",
   "metadata": {},
   "source": [
    "특정 다중 인덱스 값을 지정하면 series를 반환 받습니다."
   ]
  },
  {
   "cell_type": "markdown",
   "metadata": {},
   "source": [
    "특정 다중 인덱스와 column을 지정하면 scalar 값을 반환 받습니다."
   ]
  },
  {
   "cell_type": "markdown",
   "metadata": {},
   "source": [
    "여러개의 다중 인덱스와 column을 지정하면 DataFrame이 반환 됩니다."
   ]
  },
  {
   "cell_type": "markdown",
   "metadata": {},
   "source": [
    "## 다중 인덱스(multi index) 연습 \n",
    "미국 인구 센서스 데이터를 이용하여 다중 인덱스 사용 실습을 해 보겠습니다.  \n",
    "다중 인덱스를 이용하여 미국의 주별, 카운티별 summary 를 구합니다.\n",
    "- STNAME : 주(state) 명 \n",
    "- CTYNAME : 카운티(county) 명  \n",
    "`SUMLEV` 의 값 50인 경우 카운티 수준의 합계를 나타냅니다. (이 경우, STNAME 과 CTYNAME이 동일)  \n",
    "`SUMLEV` 의 값 40 은 주(state) 수준의 합계 입니다."
   ]
  },
  {
   "cell_type": "markdown",
   "metadata": {},
   "source": [
    "`SUMLEV` 의 value 분포"
   ]
  },
  {
   "cell_type": "markdown",
   "metadata": {},
   "source": [
    "작업을 단순하게 하기 위해 필요한 column 외에는 삭제합니다."
   ]
  },
  {
   "cell_type": "markdown",
   "metadata": {},
   "source": [
    "(state 명, county 명)으로 다중 인덱스(multi index)를 생성합니다."
   ]
  },
  {
   "cell_type": "markdown",
   "metadata": {},
   "source": [
    "New York 주에 속한 카운티 목록을 출력하고 중복 카운티 명을 제거합니다. 파이썬의 list comprehension과 집합(set) 자료형을 이용합니다."
   ]
  },
  {
   "cell_type": "markdown",
   "metadata": {},
   "source": [
    "특정 주와 카운티만 query 합니다. New York 주에 속한 카운티 중 두개 카운티를 선택합니다."
   ]
  },
  {
   "cell_type": "markdown",
   "metadata": {},
   "source": [
    "apply 메소드를 사용하여 전체 카운티에 대해 최대, 최소값을 계산합니다."
   ]
  },
  {
   "cell_type": "markdown",
   "metadata": {},
   "source": [
    "최대/최소값을 series 로 반환하는 함수를 작성하여 DataFrame에 적용합니다."
   ]
  },
  {
   "cell_type": "markdown",
   "metadata": {},
   "source": [
    "다중인덱스 + 반환된 series 값의 DataFrame이 반환됩니다."
   ]
  },
  {
   "cell_type": "markdown",
   "metadata": {},
   "source": [
    "apply하는 DataFrame 의 새로운 column을 생성하는 함수를 생성할 수도 있습니다."
   ]
  },
  {
   "cell_type": "markdown",
   "metadata": {},
   "source": [
    "## Column Value Update\n",
    "DataFrame의 특정 column 값을 update 할 수 있습니다. \n",
    "\n",
    "새로운 DataFrame을 생성 하겠습니다."
   ]
  },
  {
   "cell_type": "markdown",
   "metadata": {},
   "source": [
    "row 갯수에 해당하는 list 를 이용하여 새로운 column을 추가할 수 있습니다. "
   ]
  },
  {
   "cell_type": "markdown",
   "metadata": {},
   "source": [
    "**broadcasting**     \n",
    "데이터프레임 브로드캐스팅은 데이터프레임의 모든 요소에 스칼라 값을 적용하거나 동일한 모양의 다른 데이터프레임의 값을 사용하여 한 데이터프레임의 모든 요소에 연산을 적용할 수 있는 Pandas의 기능입니다."
   ]
  },
  {
   "cell_type": "markdown",
   "metadata": {},
   "source": [
    "reset_index 메소드를 이용하여 index를 재설정할 수 있습니다.   \n",
    "index 값은 `index`라는 새로운 column에 저장됩니다."
   ]
  },
  {
   "cell_type": "markdown",
   "metadata": {},
   "source": [
    "`index` column 명을 `Store`로 변경합니다."
   ]
  },
  {
   "cell_type": "markdown",
   "metadata": {},
   "source": [
    "특정 column 의 값을 Series를 이용하여 update 합니다. row의 갯수가 부족하면 NaN으로 채워집니다."
   ]
  },
  {
   "cell_type": "markdown",
   "metadata": {},
   "source": [
    "특정 column의 값을 dictionary를 이용하여 update 합니다. dictionary의 key 값을 index 값으로 매칭 시킵니다."
   ]
  },
  {
   "cell_type": "markdown",
   "metadata": {},
   "source": [
    "# 병합(Merging) 과 연결(Concatenating)\n",
    "\n",
    "## 병합(merging)\n",
    "\n",
    "데이터프레임 병합은 하나 이상의 공통 열을 기반으로 두 개 이상의 데이터프레임을 단일 데이터프레임으로 결합하는 프로세스입니다. 다음은 예제입니다.  \n",
    "\n",
    "이 예제에서는 merge() 함수를 사용하여 키 열을 기준으로 두 데이터 프레임 df1 및 df2를 병합합니다. 병합된 결과 데이터 프레임에는 `key` 열에 공통 값이 있는 행만 포함됩니다."
   ]
  },
  {
   "cell_type": "markdown",
   "metadata": {},
   "source": [
    "### 연결(concatenating)\n",
    "데이터프레임 연결은 특정 축(행 또는 열)을 따라 두 개 이상의 데이터프레임을 결합하는 프로세스입니다. 다음은 예시입니다.  \n",
    "이 예제에서는 concat() 함수를 사용하여 행 축을 따라 두 데이터 프레임 df1과 df2를 연결합니다. 결과적으로 연결된 데이터 프레임에는 두 데이터 프레임의 모든 행이 포함됩니다.\n",
    "\n",
    "- DataFrame 들의 dimension 이 반드시 같아야 합니다.  \n",
    "- SQL 의 UNION 에 해당 합니다."
   ]
  },
  {
   "cell_type": "markdown",
   "metadata": {},
   "source": [
    "## 병합(merging) 고급 기능\n",
    "\n",
    "- Pandas 의 **merge** mothod는 SQL Table merge 와 유사한 기능을 제공합니다.   \n",
    "- 두개의 DataFrame 을 대상으로 합니다.  \n",
    "- index 를 기준으로 join 합니다."
   ]
  },
  {
   "cell_type": "markdown",
   "metadata": {},
   "source": [
    "### DataFrame 간의 Join\n",
    "\n",
    "<img src=\"venDiagram.png\" width=350>\n",
    "<p> Inner Join (Intersection) </p>\n",
    "<img src=\"innerJoin.png\" width=250>"
   ]
  },
  {
   "cell_type": "markdown",
   "metadata": {},
   "source": [
    "교직원 데이터프레임을 생성합니다."
   ]
  },
  {
   "cell_type": "markdown",
   "metadata": {},
   "source": [
    "학생 데이터프레임을 생성합니다."
   ]
  },
  {
   "cell_type": "markdown",
   "metadata": {},
   "source": [
    "### outer join \n",
    "\n",
    "- 두 DataFrame 의 모든 index를 포함한 새로운 DataFrame을 생성합니다."
   ]
  },
  {
   "cell_type": "markdown",
   "metadata": {},
   "source": [
    "### inner join (default)\n",
    "- intersection (교집합)  \n",
    "- 두 DataFrame 에 공통적으로 존재하는 index를 기준으로 새로운 DataFrame을 생성합니다."
   ]
  },
  {
   "cell_type": "markdown",
   "metadata": {},
   "source": [
    "### left join $\\rightarrow$ SQL 의 left outer join 과 유사 \n",
    "- left DataFrame 은 모두 포함되고 right DataFrame 은 공통 index 만 포함 됩니다."
   ]
  },
  {
   "cell_type": "markdown",
   "metadata": {},
   "source": [
    "### right join $\\rightarrow$ SQL 의 right outer join 과 유사 \n",
    "\n",
    "- right DataFrame 은 모두 포함되고 left DataFrame 은 공통 index 만 포함 됩니다."
   ]
  },
  {
   "cell_type": "markdown",
   "metadata": {},
   "source": [
    "### index 값이 단순 sequence 일 경우 join 에 사용할 column 지정"
   ]
  },
  {
   "cell_type": "markdown",
   "metadata": {},
   "source": [
    "staff_df 의 index를 단순 sequence 로 reset 합니다."
   ]
  },
  {
   "cell_type": "markdown",
   "metadata": {},
   "source": [
    "student_df의 index를 단순 sequence로 reset 합니다."
   ]
  },
  {
   "cell_type": "markdown",
   "metadata": {},
   "source": [
    "merge 할 기준 column을 지정 합니다."
   ]
  },
  {
   "cell_type": "markdown",
   "metadata": {},
   "source": [
    "merge 할 때 중복된 column 명이 있을 경우 자동으로 suffix를 부여합니다.  \n",
    "\n",
    "staff_df 와 student_df에 중복된 column 명을 생성합니다."
   ]
  },
  {
   "cell_type": "markdown",
   "metadata": {},
   "source": [
    "중복된 column 명이 있으면 왼쪽 DataFrame의 column명에 `_x`, 오른쪽 DataFrame의 column명에 `_y` suffix를 자동으로 추가 합니다."
   ]
  },
  {
   "cell_type": "markdown",
   "metadata": {},
   "source": [
    "## 연습 문제 - 1\n",
    "\n",
    "- 다음과 같은 두개의 DataFrame 을 생성하고 하나의 DataFrame 으로 join 하세요.\n",
    "\n",
    "### product DataFrame\n",
    "\n",
    "- productID를 index 로 사용하는 dataframe\n",
    "\n",
    "| productID | Price | Product | \n",
    "|:---:|:---:|:---:|\n",
    "| 4109| 5.0 | Sushi Roll | \n",
    "| 1412 | 0.5 | Egg |\n",
    "| 8931 | 1.5 | Bagel |\n",
    "\n",
    "### invoice DataFrame\n",
    "\n",
    "- sequence가 index인 dataframe\n",
    "\n",
    "<table>\n",
    "    <th></th>\n",
    "    <th>Customer</th>\n",
    "    <th>ProductId</th>\n",
    "    <th>Quantity</th>\n",
    "    <tr>\n",
    "    <td>0</td>\n",
    "     <td>ALi</td>\n",
    "     <td>4109</td>\n",
    "     <td>1</td>\n",
    "    </tr>\n",
    "    <tr>\n",
    "    <td>1</td>\n",
    "    <td>Eric</td>\n",
    "     <td>1412</td>\n",
    "     <td>12</td>\n",
    "     </tr>\n",
    "    <tr>\n",
    "     <td>2</td>\n",
    "    <td>Ande</td>\n",
    "     <td>8931</td>\n",
    "     <td>6</td>\n",
    "     </tr>\n",
    "    <tr>\n",
    "    <td>3</td>\n",
    "    <td>Sam</td>\n",
    "    <td>4109</td>   \n",
    "    <td>2</td>\n",
    "    </tr>\n",
    "</table>\n",
    "\n",
    "- productID를 기준으로 join 하세요."
   ]
  },
  {
   "cell_type": "markdown",
   "metadata": {},
   "source": [
    "```\n",
    "  Customer  ProductID  Quantity  Price     Product\n",
    "0      Ali          4109         1          5.0    Sushi Roll\n",
    "3      Sam       4109         2          5.0    Sushi Roll\n",
    "1     Eric         1412        12         0.5         Egg\n",
    "2     Ande       8931         6          1.5       Bagel\n",
    "```"
   ]
  }
 ],
 "metadata": {
  "kernelspec": {
   "display_name": "Python 3 (ipykernel)",
   "language": "python",
   "name": "python3"
  },
  "language_info": {
   "codemirror_mode": {
    "name": "ipython",
    "version": 3
   },
   "file_extension": ".py",
   "mimetype": "text/x-python",
   "name": "python",
   "nbconvert_exporter": "python",
   "pygments_lexer": "ipython3",
   "version": "3.9.13"
  }
 },
 "nbformat": 4,
 "nbformat_minor": 2
}
