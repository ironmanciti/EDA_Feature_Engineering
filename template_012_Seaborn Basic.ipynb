{
 "cells": [
  {
   "cell_type": "markdown",
   "metadata": {},
   "source": [
    "# Seaborn 기초\n",
    "\n",
    "### pandas DataFrame에 최적화된 plot 기능 제공 \n",
    "\n",
    "### 다음의 feature 를 제공\n",
    "\n",
    "- 내장된 테마  \n",
    "\n",
    "- univariate 및 bivariate data 시각화  \n",
    "\n",
    "- linear regression model 의 fitting 및 시각화  \n",
    "\n",
    "- 통계적 시계열 data 의 plotting  \n",
    "\n",
    "- Numpy 및 Pandas DataFrame 과 잘 연동  \n",
    "\n",
    "- Matplotlib graphic 의 내장 theme 포함"
   ]
  },
  {
   "cell_type": "markdown",
   "metadata": {},
   "source": [
    "## Seaborn style\n",
    "Seaborn에서 제공하는 스타일은 다음과 같습니다.  \n",
    "\n",
    "darkgrid : default. 어두운 배경에 격자 라인이 그려진 스타일  \n",
    "whitegrid : 밝은 배경에 격자 라인이 그려진 스타일  \n",
    "dark : 어두운 배경에 격자 라인이 없는 스타일   \n",
    "white : 밝은 배경에 격자 라인이 없는 스타일  \n",
    "ticks : 축에 눈금이 있는 스타일  "
   ]
  },
  {
   "cell_type": "markdown",
   "metadata": {},
   "source": [
    "### seaborn 의 style 테마 \n",
    "\n",
    "\n",
    "- Whitegrid \n",
    "- Dark  \n",
    "- White  \n",
    "- Ticks"
   ]
  },
  {
   "cell_type": "markdown",
   "metadata": {},
   "source": [
    "### axis 의 top, right spine 제거\n",
    "\n",
    "- despine : 플롯에서 상단 및 오른쪽 스파인 제거."
   ]
  },
  {
   "cell_type": "markdown",
   "metadata": {},
   "source": [
    "## matplotlib 과 seaborn 의 DataFrame plot 비교\n",
    "\n",
    "seaborn의 내장 tips dataset 에서 요일별 평균 팁 금액을 남, 녀 고객 별로 비교해 봅니다."
   ]
  },
  {
   "cell_type": "markdown",
   "metadata": {},
   "source": [
    "day가 category type 인지 확인해 봅니다."
   ]
  },
  {
   "cell_type": "markdown",
   "metadata": {},
   "source": [
    "## matplotlib의 bar chart\n",
    "\n",
    "- Hard Way"
   ]
  },
  {
   "cell_type": "markdown",
   "metadata": {},
   "source": [
    "day 열은 요일을 나타내며, 해당 열의 데이터는 Thur, Fri, Sat, Sun의 4가지 카테고리(분류)를 가집니다."
   ]
  },
  {
   "cell_type": "markdown",
   "metadata": {},
   "source": [
    "plot의 x 축에 사용할 array 값을 만듭니다."
   ]
  },
  {
   "cell_type": "markdown",
   "metadata": {},
   "source": [
    "tips 데이터셋에서 sex 열이 'Male'인 행만 추출한 후, day 열을 기준으로 그룹화하여 tip 열의 평균을 계산합니다.\n",
    "\n",
    "따라서 이 코드를 실행하면, day 열의 각 카테고리별로, 성별로 손님이 지불한 팁(tip)의 평균값이 출력됩니다. 출력 결과는 day 열의 카테고리별로 총 4개의 값이 출력됩니다."
   ]
  },
  {
   "cell_type": "markdown",
   "metadata": {},
   "source": [
    "bar 의 사각형 범위를 조절하여 서로 겹치지 않도록 합니다."
   ]
  },
  {
   "cell_type": "markdown",
   "metadata": {},
   "source": [
    "## Seaborn의 barplot\n",
    "\n",
    "- Easy Way\n",
    "- 포인트 추정치 및 신뢰 구간을 직사각형 막대로 표시"
   ]
  },
  {
   "cell_type": "markdown",
   "metadata": {},
   "source": [
    "## 통계적 추론 (Statistical Estimation) 과 관련된 plot 들\n",
    "\n",
    "- 전체 data 의 분포에 대한 plotting \n",
    "\n",
    "- 중심경향 추론(central tendency estimation) 에 사용되는 mean 과 median 에 관련된 plot 들"
   ]
  },
  {
   "cell_type": "markdown",
   "metadata": {},
   "source": [
    "### boxplot - 범주와 관련된 분포를 표시하는 상자 그림\n",
    "박스 플롯은 데이터의 분포를 시각화하는 그래프로, 데이터의 중앙값, 사분위수(Quartile), 이상치 등의 정보를 한눈에 파악할 수 있습니다"
   ]
  },
  {
   "cell_type": "markdown",
   "metadata": {},
   "source": [
    "matplotlib을 이용하여 boxplot을 그립니다."
   ]
  },
  {
   "cell_type": "markdown",
   "metadata": {},
   "source": [
    "seaborn을 이용하여 boxplot을 그립니다."
   ]
  },
  {
   "cell_type": "markdown",
   "metadata": {},
   "source": [
    "### Violine Plot\n",
    "\n",
    "- box plot + kde (kernel density estimation) 을 하여 data 의 분포를 쉽게 파악할 수 있도록 합니다.\n",
    "\n",
    "- box plot 의 사분위수와 whisker 가 violin 내에 표시됩니다.  \n",
    "\n",
    "- violin plot 이 kde 를 이용하므로 넓은 부분이 high density 이고, 좁은 부분이 low density 입니다.  \n",
    "\n",
    "- Box plot 의 사분위간 범위(Inter-Quartile range) 와 kde 의 higher density 부분이 같은 영역으로 일치합니다."
   ]
  },
  {
   "cell_type": "markdown",
   "metadata": {},
   "source": [
    "요일별 total bill 금액 분포를 파악합니다. x 축에 요일, y 축에 total bill을 지정합니다."
   ]
  },
  {
   "cell_type": "markdown",
   "metadata": {},
   "source": [
    "요일별 성별 total bill 분를 파악합니다. x 축에 요일, y 축에 total bill을 남, 녀별로 plot을 표시합니다."
   ]
  },
  {
   "cell_type": "markdown",
   "metadata": {},
   "source": [
    "`split=True`를 지정하면 하나의 violin plot을 반으로 분할하여 표시합니다."
   ]
  },
  {
   "cell_type": "markdown",
   "metadata": {},
   "source": [
    "## 변수 한개 (Univariate) 의 분포를 그리는 기능"
   ]
  },
  {
   "cell_type": "markdown",
   "metadata": {},
   "source": [
    "seaborn에 내장된 붓꽃 데이터를 이용합니다.  \n",
    "\n",
    "### iris.feature_names : \n",
    "\n",
    "Sepal Length : 꽃받침 길이  \n",
    "Sepal Width  : 꽃받침 너비   \n",
    "Petal Length  : 꽃잎 길이  \n",
    "Petal Width   :  꽃잎 너비 \n",
    "\n",
    "Species (꽃의 종류) :  setosa / versicolor / virginica 의 3종류로 구분된다.\n",
    "\n",
    "하나의 plot에 하나의 변수를 시각화 합니다."
   ]
  },
  {
   "cell_type": "markdown",
   "metadata": {},
   "source": [
    "### Histogram"
   ]
  },
  {
   "cell_type": "markdown",
   "metadata": {},
   "source": [
    "## 변수두개(bivariate) 분포를 그리는 기능\n"
   ]
  },
  {
   "cell_type": "markdown",
   "metadata": {},
   "source": [
    "### Joint Scatter Plot\n",
    "\n",
    "-  Seaborn의 sns.jointplot() 함수를 사용하면 두 개의 데이터 컬럼 간의 산점도와 히스토그램을 함께 볼 수 있습니다. 그리고 각 축의 x, y 라벨을 설정 할 수 있습니다.\n",
    "\n",
    "- Seaborn의 sns.jointplot() 함수는 기본적으로 산점도(scatter plot)를 그려주지만, kind 인자를 사용하면 그릴 그래프의 종류를 변경할 수 있습니다.\n",
    "    \n",
    "    - 'scatter' : 산점도\n",
    "    - 'hex' : 헥스로그램\n",
    "    - 'kde' : 커널 밀도 추정\n",
    "    - 'reg' : 선형 회귀\n",
    "    - 'resid' : 잔차"
   ]
  },
  {
   "cell_type": "markdown",
   "metadata": {},
   "source": [
    "### jointplot()"
   ]
  },
  {
   "cell_type": "markdown",
   "metadata": {},
   "source": [
    "### Kernel Density Eestimation\n",
    "\n",
    "- 변수의 분포를 보는 방법"
   ]
  },
  {
   "cell_type": "markdown",
   "metadata": {},
   "source": [
    "### Pairwise Relationship\n",
    "\n",
    "데이터 분석에서는 변수들 간의 상관관계를 파악하는 것이 중요합니다. Seaborn 라이브러리에서는 pairplot 함수를 사용하여 데이터프레임의 변수들 간의 이차원 관계를 시각화할 수 있습니다. pairplot 함수는 데이터프레임의 모든 변수들을 이차원 평면에 나타내고, 각 변수들 간의 산점도(scatter plot)를 그립니다. 또한 대각선에는 변수들의 히스토그램(histogram)을 그려줍니다.\n",
    "\n",
    "- hue : 색깔 구분을 할 변수  \n",
    "- diag_kind : 대각선에 배치할 subplots (hist or kde)"
   ]
  },
  {
   "cell_type": "markdown",
   "metadata": {},
   "source": [
    "### stripplot \n",
    "\n",
    "하나의 변수가 범주형인 산점도입니다.\n",
    "\n",
    "stripplot 함수는 카테고리 변수와 연속형 변수 간의 관계를 시각화하는데 사용됩니다. stripplot 함수는 연속형 변수를 y축으로, 카테고리 변수를 x축으로 사용하여 데이터를 점으로 표시합니다. "
   ]
  },
  {
   "cell_type": "markdown",
   "metadata": {},
   "source": [
    "동일한 데이터를 boxplot으로 시각화할 때와 비교해 봅니다."
   ]
  }
 ],
 "metadata": {
  "kernelspec": {
   "display_name": "Python 3 (ipykernel)",
   "language": "python",
   "name": "python3"
  },
  "language_info": {
   "codemirror_mode": {
    "name": "ipython",
    "version": 3
   },
   "file_extension": ".py",
   "mimetype": "text/x-python",
   "name": "python",
   "nbconvert_exporter": "python",
   "pygments_lexer": "ipython3",
   "version": "3.9.13"
  }
 },
 "nbformat": 4,
 "nbformat_minor": 2
}
