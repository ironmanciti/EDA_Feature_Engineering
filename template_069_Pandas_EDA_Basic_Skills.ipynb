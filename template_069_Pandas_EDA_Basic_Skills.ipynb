{
 "cells": [
  {
   "cell_type": "markdown",
   "metadata": {
    "run_control": {
     "marked": true
    }
   },
   "source": [
    "# Pandas를 이용한 EDA 기본 기술"
   ]
  },
  {
   "cell_type": "markdown",
   "metadata": {
    "run_control": {
     "marked": true
    }
   },
   "source": [
    "이 실습에서는 붓꽃 데이터 집합을 사용하겠습니다. 이것은 붓꽃의 종과 꽃받침 및 꽃잎 측정값을 포함하는 잘 알려진 데이터 세트입니다. 우리가 사용할 데이터는 `iris_data.csv`라는 파일에 있습니다."
   ]
  },
  {
   "cell_type": "markdown",
   "metadata": {
    "run_control": {
     "marked": true
    }
   },
   "source": [
    "## 기본 통계 파악\n",
    "\n",
    "- 데이터 포인트(행)의 개수  \n",
    "- 열 이름  \n",
    "- 각 열의 데이터 유형 "
   ]
  },
  {
   "cell_type": "markdown",
   "metadata": {
    "run_control": {
     "marked": true
    }
   },
   "source": [
    "다음을 결정합니다:\n",
    "\n",
    "- 존재하는 각 종의 수  \n",
    "- 각 꽃잎과 꽃받침 측정값의 평균, 중앙값, 사분위수 및 범위(최대-최소)"
   ]
  },
  {
   "cell_type": "markdown",
   "metadata": {},
   "source": [
    "4분위수의 50%를 `median`으로 rename"
   ]
  },
  {
   "cell_type": "markdown",
   "metadata": {
    "run_control": {
     "marked": true
    }
   },
   "source": [
    "별도의 데이터 프레임에서 **각 종에 대해** 다음을 계산합니다:\n",
    "\n",
    "- 각 측정값(꽃받침_길이, 꽃받침_너비, 꽃잎_길이, 꽃잎_너비)의 평균.   \n",
    "- 각 측정값의 중앙값."
   ]
  },
  {
   "cell_type": "markdown",
   "metadata": {},
   "source": [
    "한 번에 여러 기능 적용 - 2가지 방법"
   ]
  },
  {
   "cell_type": "markdown",
   "metadata": {},
   "source": [
    "특정 필드를 다르게 집계해야 하는 경우"
   ]
  },
  {
   "cell_type": "markdown",
   "metadata": {},
   "source": [
    "## 산점도 Plotting\n",
    "Matplotlib를 사용하여 `sepal_length` 대 `sepal_width`의 산점도를 만듭니다. 축에 레이블을 지정하고 플롯에 제목을 붙입니다."
   ]
  },
  {
   "cell_type": "markdown",
   "metadata": {},
   "source": [
    "## Histogram plotting\n",
    "히스토그램을 만듭니다. 축에 레이블을 지정하고 적절한 제목을 붙입니다."
   ]
  },
  {
   "cell_type": "markdown",
   "metadata": {},
   "source": [
    "- 각 특성(`꽃잎 폭`, `꽃잎 길이`, `꽃받침 폭`, `꽃받침 길이`)에 대한 히스토그램이 오버레이된 단일 플롯을 생성합니다.   \n",
    "\n",
    "\n",
    "- 각 특성별로 별도의 플롯을 생성합니다. "
   ]
  },
  {
   "cell_type": "markdown",
   "metadata": {},
   "source": [
    "## 상자그림(box plot)\n",
    "판다스를 사용하여 각 꽃잎과 꽃받침 측정값의 박스 플롯을 만듭니다. "
   ]
  },
  {
   "cell_type": "markdown",
   "metadata": {},
   "source": [
    "이제 특징을 X축으로 구분하고 종을 다른 색으로 색칠하는 단일 박스 플롯을 만듭니다.\n",
    "\n",
    "다음은 데이터 형식의 예입니다:\n",
    "\n",
    "|   | species | measurement  | size |\n",
    "| - | ------- | ------------ | ---- |\n",
    "| 0 | setosa  | sepal_length | 5.1  |\n",
    "| 1 | setosa  | sepal_width  | 3.5  |\n"
   ]
  },
  {
   "cell_type": "markdown",
   "metadata": {},
   "source": [
    "## Pair Plot\n",
    "Seaborn을 사용하여 [페어플롯](http://seaborn.pydata.org/generated/seaborn.pairplot.html?utm_medium=Exinfluencer&utm_source=Exinfluencer&utm_content=000026UJ&utm_term=10006555&utm_id=NA-SkillsNetwork-Channel-SkillsNetworkCoursesIBMML0232ENSkillsNetwork30654641-2022-01-01)을 만들어 각 측정값 간의 상관관계를 조사합니다.\n",
    "\n",
    "이 플롯은 복잡해 보이지만 실제로는 한 줄의 코드에 불과합니다. "
   ]
  }
 ],
 "metadata": {
  "anaconda-cloud": {},
  "kernelspec": {
   "display_name": "Python 3 (ipykernel)",
   "language": "python",
   "name": "python3"
  },
  "language_info": {
   "codemirror_mode": {
    "name": "ipython",
    "version": 3
   },
   "file_extension": ".py",
   "mimetype": "text/x-python",
   "name": "python",
   "nbconvert_exporter": "python",
   "pygments_lexer": "ipython3",
   "version": "3.9.13"
  }
 },
 "nbformat": 4,
 "nbformat_minor": 4
}
