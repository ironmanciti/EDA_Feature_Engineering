{
 "cells": [
  {
   "cell_type": "markdown",
   "metadata": {},
   "source": [
    "# Feature Engineering(특성 공학) -  Basic"
   ]
  },
  {
   "cell_type": "markdown",
   "metadata": {},
   "source": [
    "## 선형 회귀를 사용한 피처 엔지니어링: Ames 주택 데이터에 적용\n",
    "\n",
    "에임스 주택 데이터 사용하기:\n",
    "\n",
    "Ames Housing 데이터셋은 머신 러닝 및 통계에 사용되는 인기 있는 데이터 집합입니다. 여기에는 2006년부터 2010년까지 아이오와주 에임스의 개별 주거용 부동산 판매에 대한 자세한 정보가 포함되어 있습니다. \n",
    "\n",
    "에임스 주택 데이터셋에는 전반적인 품질, 침실 수, 평방 피트 등 각 부동산의 다양한 측면을 설명하는 79개의 설명 변수(또는 특성)가 포함되어 있습니다. 대상 (target)변수는 부동산의 판매 가격입니다. 데이터셋에는 총 2,930개의 관측값이 포함되어 있습니다.\n",
    "\n",
    "Ames Housing 데이터셋은 연속형, 범주형, 서수형 변수가 혼합되어 있고 누락된 데이터와 이상값이 포함되어 있어 회귀 알고리즘 및 특성 엔지니어링 기법의 벤치마크로 자주 사용됩니다. 또한 데이터 전처리, 모델 선택 및 모델 결과 해석에 대한 학습에 널리 사용되는 데이터 세트입니다. 이 데이터 세트는 Kaggle 및 UCI 머신 러닝 리포지토리를 비롯한 다양한 온라인 플랫폼에서 다운로드할 수 있습니다.\n",
    "\n",
    "이 노트북에서는 기존 데이터에서 새로운 특징을 도출하는 **feature engineering**을 통해 기준이 되는 특징 집합을 개선할 것입니다. 피처 엔지니어링은 종종 약한 모델과 강력한 모델의 차이를 만듭니다.\n",
    "\n",
    "다음은 간단한 데이터 설명입니다.\n",
    "\n",
    "### Target\n",
    "SalePrice - 부동산의 판매 가격(달러)입니다. 예측하려는 대상 변수입니다.  \n",
    "\n",
    "### Features\n",
    "MSSubClass: 건물 클래스/\n",
    "MSZoning: 일반적인 구역 분류/\n",
    "LotFrontage: 부동산에 연결된 도로의 선형 피트/\n",
    "LotArea: 부지 크기(평방 피트)/\n",
    "Street: 도로 접근 유형/\n",
    "Alley: 골목: 골목 접근 유형/\n",
    "LotShape: 부동산의 일반적인 모양/\n",
    "LandContour: 부동산의 평탄도/\n",
    "Utilities: 사용 가능한 유틸리티 유형/\n",
    "LotConfig: 로트 구성/\n",
    "LandSlope: 부동산의 경사도/\n",
    "Neighborhood: 이웃: 에임스 시 경계 내의 물리적 위치/\n",
    "Condition1: 주요 도로 또는 철도와의 근접성/\n",
    "Condition2 주요 도로 또는 철도와의 근접성(두 번째가 있는 경우)/\n",
    "BldgType:: 주거 유형/\n",
    "HouseStyle: 주거 스타일/\n",
    "OverallQual: 전반적인 재료 및 마감 품질/\n",
    "OverallCond: 전반적인 상태 등급/\n",
    "YearBuilt: 최초 건축 날짜/\n",
    "YearRemodAdd: 리모델링 날짜/\n",
    "RoofStyle: 지붕 유형/\n",
    "RoofMatl: 지붕 재질/\n",
    "Exterior1st: 집의 외부 덮개/\n",
    "Exterior2nd: 주택의 외장재(두 가지 이상의 재료인 경우)/\n",
    "MasVnrType: 벽돌 베니어 유형/\n",
    "MasVnrArea: 벽돌 베니어 면적(평방 피트)/\n",
    "ExterQual: 외장재 품질/\n",
    "ExterCond: 외관에 있는 재료의 현재 상태/\n",
    "Foundation: 기초 유형/\n",
    "BsmtQual: 지하실의 높이/\n",
    "BsmtCond: 지하실의 일반적인 상태/\n",
    "BsmtExposure: 워크아웃 또는 정원 수준의 지하실 벽면/\n",
    "BsmtFinType1: 지하실 마감 면적의 품질/\n",
    "BsmtFinSF1: 유형 1 마감 평방 피트/\n",
    "BsmtFinType2: 두 번째 마감 면적의 품질(있는 경우)/\n",
    "BsmtFinSF2: 유형 2 마감 평방 피트/\n",
    "BsmtUnfSF: 지하실 면적의 미완성 평방 피트/\n",
    "TotalBsmtSF: 지하 면적의 총 평방 피트/\n",
    "Heating: 난방 유형/\n",
    "HeatingQC: 난방 품질 및 상태/\n",
    "CentralAir: 중앙 에어컨/\n",
    "Electrical: 전기 시스템/\n",
    "1FlrSF: 1층 평방 피트/\n",
    "2ndFlrSF: 2층 평방 피트/\n",
    "LowQualFinSF: 저품질 마감 평방피트(모든 층)/\n",
    "GrLivArea: 그레이드 이상(지상) 거실 면적 평방피트/\n",
    "BsmtFullBath: 지하 전체 욕실/\n",
    "BsmtHalfBath: 지하 하프 욕실/\n",
    "FullBath: 위층 전체 욕실/\n",
    "HalfBath: 층 위 반 욕실/\n",
    "Bedroom: 지하층 이상 침실 개수/\n",
    "Kitchen: 주방 개수/\n",
    "KitchenQual: 주방 품질/\n",
    "TotRmsAbvGrd: 등급 이상의 총 객실 수(욕실은 포함되지 않음)/\n",
    "Functional: 주택 기능 등급/\n",
    "Fireplaces: 벽난로 개수/\n",
    "FireplaceQu: 벽난로 품질/\n",
    "GarageType:: 차고 위치/\n",
    "GarageYrBlt: 차고가 지어진 연도/\n",
    "GarageFinish: 차고 내부 마감재/\n",
    "GarageCars: 차고 크기(차량 수용 가능)/\n",
    "GarageArea: 차고 면적(평방 피트)/\n",
    "GarageQual: 차고 품질/\n",
    "GarageCond: 차고 상태/\n",
    "PavedDrive: 포장된 진입로/\n",
    "WoodDeckSF: 목재 데크 면적(평방피트)/\n",
    "OpenPorchSF: 개방형 현관 면적(평방피트)/\n",
    "EnclosedPorch: 밀폐된 현관 면적(평방피트)/\n",
    "3SsnPorch: 사계절 현관 면적(평방피트)/\n",
    "ScreenPorch: 스크린 현관 면적(평방피트)/\n",
    "PoolArea: 수영장 면적(평방피트)/\n",
    "PoolQC: 수영장 품질/\n",
    "Fence: 펜스 품질/\n",
    "MiscFeature: 다른 카테고리에서 다루지 않는 기타 기능/\n",
    "MiscVal: 기타 기능의 $값/\n",
    "MoSold: 판매된 월/\n",
    "YrSold: 판매 연도/\n",
    "SaleType: 판매 유형/\n",
    "SaleCondition: 판매 조건\n",
    "\n",
    "\n",
    "시각적 탐색, 도메인 이해 및 직관을 사용하여 나중에 예측으로 전환할 때 유용할 새로운 feature를 구축할 것입니다.\n",
    "\n",
    "**노트북 내용**\n",
    "\n",
    "> 1. 간단한 EDA \n",
    "> 2.  원핫 인코딩 변수 \n",
    "> 3.  편향된 변수에 대한 로그 변환 \n",
    "> 4.  피처를 위한 페어 플롯 \n",
    "> 5.  기본 피처 엔지니어링: 다항식 및 상호 작용 항 추가 \n",
    "> 6.  Feature engineering: 카테고리 집계에서 파생된 카테고리 및 특징\n",
    "\n",
    "## 1. 간단한 EDA"
   ]
  },
  {
   "cell_type": "markdown",
   "metadata": {},
   "source": [
    "#### 데이터 로드, 검사 및 탐색"
   ]
  },
  {
   "cell_type": "markdown",
   "metadata": {},
   "source": [
    "### 편향된 변수의 Log 변환"
   ]
  },
  {
   "cell_type": "markdown",
   "metadata": {},
   "source": [
    "### 편향된 변수의 log 변환\n",
    "\n",
    "Pandas에서 skew() 메서드는 특정 열의 skewness(왜도)를 계산하는 데 사용됩니다. 왜도는 분포의 비대칭 정도를 나타내는 척도입니다. 완벽하게 대칭인 분포의 왜도는 0입니다."
   ]
  },
  {
   "cell_type": "markdown",
   "metadata": {},
   "source": [
    "위 컬럼 중 `SalePrice`를 log 값으로 바꾸어 시각화 해 보겠습니다."
   ]
  },
  {
   "cell_type": "markdown",
   "metadata": {},
   "source": [
    "### missing value check"
   ]
  },
  {
   "cell_type": "markdown",
   "metadata": {},
   "source": [
    "기본적인 feature transformation을 설명하기 위해 숫자 열 몇 개만 선택해 보겠습니다."
   ]
  },
  {
   "cell_type": "markdown",
   "metadata": {},
   "source": [
    "### feature의 pair plot \n",
    "\n",
    "\n",
    "smaller_df를 이용하여, target과 feature-target 관계를 더 잘 이해할 수 있는 시각적 자료를 생성해 보겠습니다. 페어플롯은 이를 위해 매우 유용합니다!"
   ]
  },
  {
   "cell_type": "markdown",
   "metadata": {},
   "source": [
    "### 카테고리 집계(category aggregates)에서 파생된 카테고리 및 특성"
   ]
  },
  {
   "cell_type": "markdown",
   "metadata": {},
   "source": [
    "선형 회귀 모델에 **범주별 특징**을 통합하는 것은 매우 간단합니다. 각 범주 값에 대해 새로운 특징 열을 만들고, 이 열을 1과 0으로 채워 각 행에 어떤 범주가 존재하는지 나타낼 수 있습니다. 이 방법을 **더미 변수** 또는 **원핫 인코딩**이라고 합니다.\n",
    "\n",
    "먼저 원본 데이터 프레임의 *'House Style'* 특성을 사용하여 이를 살펴보겠습니다. 더미 변수로 바로 넘어가기 전에 카테고리 수를 확인하여 모든 카테고리가 적절하게 표현되는지 확인하는 것이 좋습니다.."
   ]
  },
  {
   "cell_type": "markdown",
   "metadata": {},
   "source": [
    "이제 더미 특성이 실제로 어떻게 표시되는지 간단히 살펴보겠습니다:"
   ]
  },
  {
   "cell_type": "markdown",
   "metadata": {},
   "source": [
    "pd.get_dummies()의 `drop_first = True`로 설정하면 이 함수는 더미 변수를 생성한 후 각 변수의 첫 번째 카테고리를 삭제합니다. 이는 다른 모든 카테고리의 존재를 통해 한 카테고리의 존재를 예측할 수 있는 상황인 `더미 변수 함정(dummy variable trap)`을 피하기 위해 수행됩니다.  \n",
    "\n",
    "더미 변수 함정은 회귀 모델에서 범주형 변수로 더미 변수를 만들 때 발생할 수 있는 상황입니다. 다른 모든 범주의 존재를 통해 한 범주의 존재를 예측할 수 있을 때 발생합니다. 이로 인해 다중공선성이 발생하여 회귀 계수 추정에 문제가 발생할 수 있습니다.\n",
    "\n",
    "다중공선성은 회귀 모델에서 두 개 이상의 예측 변수가 서로 높은 상관관계를 갖는 상황을 설명하는 데 사용되는 통계 용어입니다. 회귀 모델에서 두 개 이상의 독립 변수가 밀접하게 관련되어 종속 변수에 대한 중복 정보를 제공할 때 발생합니다.\n",
    "\n",
    "다중공선성은 개별 예측 변수가 종속 변수에 미치는 영향을 추정하기 어렵게 만들 수 있습니다.\n",
    "\n",
    "다중공선성은 상관관계 분석, 고유값 분해와 같은 다양한 통계적 방법을 사용하여 감지할 수 있습니다. 다중공선성이 확인되면 다음과 같은 여러 기법을 사용하여 이를 해결할 수 있습니다:\n",
    "\n",
    "- 모델에서 상관관계가 높은 예측 변수 중 하나 이상을 삭제합니다.  \n",
    "\n",
    "- 상관관계가 높은 예측 변수를 단일 변수로 결합합니다.  \n",
    "\n",
    "- 더 많은 데이터를 수집하여 샘플 크기를 늘리고 예측 변수 간의 상관관계를 줄입니다."
   ]
  },
  {
   "cell_type": "markdown",
   "metadata": {},
   "source": [
    "전체 데이터 집합에 대해 `pd.get_dummies()`를 호출하여 모든 원래 특성과 범주형 특성의 더미 변수 표현이 포함된 데이터를 빠르게 가져올 수 있습니다. 몇 가지 변수 값을 살펴보겠습니다."
   ]
  },
  {
   "cell_type": "markdown",
   "metadata": {},
   "source": [
    "이 카테고리의 경우, 가장 적게 표시되는 몇 개의 지역을 '기타' 카테고리에 매핑해 보겠습니다."
   ]
  }
 ],
 "metadata": {
  "kernelspec": {
   "display_name": "Python 3 (ipykernel)",
   "language": "python",
   "name": "python3"
  },
  "language_info": {
   "codemirror_mode": {
    "name": "ipython",
    "version": 3
   },
   "file_extension": ".py",
   "mimetype": "text/x-python",
   "name": "python",
   "nbconvert_exporter": "python",
   "pygments_lexer": "ipython3",
   "version": "3.9.13"
  }
 },
 "nbformat": 4,
 "nbformat_minor": 4
}
