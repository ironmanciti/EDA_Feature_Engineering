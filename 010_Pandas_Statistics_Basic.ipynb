{
 "cells": [
  {
   "cell_type": "markdown",
   "metadata": {},
   "source": [
    "# Pandas를 활용한 통계 기초 및 시각화"
   ]
  },
  {
   "cell_type": "markdown",
   "metadata": {},
   "source": [
    "## Discrete Random Variables (이산 확률 변수)\n",
    "이산 환율 변수는 셀 수 있는 수의 값만 취할 수 있는 확률 변수의 한 유형입니다. 이러한 값은 일반적으로 정수이지만 다른 셀 수 있는 값 집합일 수도 있습니다."
   ]
  },
  {
   "cell_type": "code",
   "execution_count": 1,
   "metadata": {},
   "outputs": [],
   "source": [
    "import numpy as np\n",
    "import pandas as pd\n",
    "import matplotlib.pyplot as plt\n",
    "np.random.seed(1)\n",
    "\n",
    "#한글 폰트 사용\n",
    "import platform\n",
    "from matplotlib import font_manager\n",
    " \n",
    "if platform.system() == \"Darwin\":  #Mac\n",
    "    plt.rc('font', family='AppleGothic')\n",
    "else:\n",
    "    font_path = 'C:/Windows/Fonts/malgun.ttf' # For Windows \n",
    "    font_name = font_manager.FontProperties(fname=font_path).get_name()  \n",
    "    plt.rc('font', family=font_name)                           \n",
    "\n",
    "plt.rcParams['axes.unicode_minus'] = False  #한글사용시 마이너스 사인 깨짐 방지"
   ]
  },
  {
   "cell_type": "markdown",
   "metadata": {},
   "source": [
    "### 주사위 게임\n",
    "\n",
    "2개의 주사위를 굴린 결과를 모방하므로 다른 결과를 얻을 수 있지만 범위는 2에서 12 사이로 제한되어야 합니다."
   ]
  },
  {
   "cell_type": "code",
   "execution_count": 2,
   "metadata": {},
   "outputs": [
    {
     "data": {
      "text/html": [
       "<div>\n",
       "<style scoped>\n",
       "    .dataframe tbody tr th:only-of-type {\n",
       "        vertical-align: middle;\n",
       "    }\n",
       "\n",
       "    .dataframe tbody tr th {\n",
       "        vertical-align: top;\n",
       "    }\n",
       "\n",
       "    .dataframe thead th {\n",
       "        text-align: right;\n",
       "    }\n",
       "</style>\n",
       "<table border=\"1\" class=\"dataframe\">\n",
       "  <thead>\n",
       "    <tr style=\"text-align: right;\">\n",
       "      <th></th>\n",
       "      <th>0</th>\n",
       "    </tr>\n",
       "  </thead>\n",
       "  <tbody>\n",
       "    <tr>\n",
       "      <th>0</th>\n",
       "      <td>1</td>\n",
       "    </tr>\n",
       "    <tr>\n",
       "      <th>1</th>\n",
       "      <td>2</td>\n",
       "    </tr>\n",
       "    <tr>\n",
       "      <th>2</th>\n",
       "      <td>3</td>\n",
       "    </tr>\n",
       "    <tr>\n",
       "      <th>3</th>\n",
       "      <td>4</td>\n",
       "    </tr>\n",
       "    <tr>\n",
       "      <th>4</th>\n",
       "      <td>5</td>\n",
       "    </tr>\n",
       "    <tr>\n",
       "      <th>5</th>\n",
       "      <td>6</td>\n",
       "    </tr>\n",
       "  </tbody>\n",
       "</table>\n",
       "</div>"
      ],
      "text/plain": [
       "   0\n",
       "0  1\n",
       "1  2\n",
       "2  3\n",
       "3  4\n",
       "4  5\n",
       "5  6"
      ]
     },
     "execution_count": 2,
     "metadata": {},
     "output_type": "execute_result"
    }
   ],
   "source": [
    "# 주사위\n",
    "die = pd.DataFrame([1, 2, 3, 4, 5, 6])\n",
    "die"
   ]
  },
  {
   "cell_type": "markdown",
   "metadata": {},
   "source": [
    "두개의 주사위를 던진다 -> 1~6 숫자를 두번 복원 추출."
   ]
  },
  {
   "cell_type": "code",
   "execution_count": 7,
   "metadata": {},
   "outputs": [
    {
     "data": {
      "text/html": [
       "<div>\n",
       "<style scoped>\n",
       "    .dataframe tbody tr th:only-of-type {\n",
       "        vertical-align: middle;\n",
       "    }\n",
       "\n",
       "    .dataframe tbody tr th {\n",
       "        vertical-align: top;\n",
       "    }\n",
       "\n",
       "    .dataframe thead th {\n",
       "        text-align: right;\n",
       "    }\n",
       "</style>\n",
       "<table border=\"1\" class=\"dataframe\">\n",
       "  <thead>\n",
       "    <tr style=\"text-align: right;\">\n",
       "      <th></th>\n",
       "      <th>0</th>\n",
       "    </tr>\n",
       "  </thead>\n",
       "  <tbody>\n",
       "    <tr>\n",
       "      <th>0</th>\n",
       "      <td>1</td>\n",
       "    </tr>\n",
       "    <tr>\n",
       "      <th>1</th>\n",
       "      <td>2</td>\n",
       "    </tr>\n",
       "  </tbody>\n",
       "</table>\n",
       "</div>"
      ],
      "text/plain": [
       "   0\n",
       "0  1\n",
       "1  2"
      ]
     },
     "execution_count": 7,
     "metadata": {},
     "output_type": "execute_result"
    }
   ],
   "source": [
    "die.sample(2, replace=True)"
   ]
  },
  {
   "cell_type": "markdown",
   "metadata": {},
   "source": [
    "두개의 주사위 던지기 합계 값 모사합니다."
   ]
  },
  {
   "cell_type": "code",
   "execution_count": 11,
   "metadata": {},
   "outputs": [
    {
     "data": {
      "text/plain": [
       "0    9\n",
       "dtype: int64"
      ]
     },
     "execution_count": 11,
     "metadata": {},
     "output_type": "execute_result"
    }
   ],
   "source": [
    "sum_two= die.sample(2, replace=True).sum()\n",
    "sum_two"
   ]
  },
  {
   "cell_type": "markdown",
   "metadata": {},
   "source": [
    "3개의 주사위 던지기를 모사합니다."
   ]
  },
  {
   "cell_type": "code",
   "execution_count": 14,
   "metadata": {},
   "outputs": [
    {
     "name": "stdout",
     "output_type": "stream",
     "text": [
      "세개 주사위의 합 :  10\n"
     ]
    }
   ],
   "source": [
    "sum_three = die.sample(3, replace=True).sum().loc[0]\n",
    "print('세개 주사위의 합 : ', sum_three)"
   ]
  },
  {
   "cell_type": "markdown",
   "metadata": {},
   "source": [
    "## Frequency and Distribution (빈도 및 분포)\n",
    "통계에서 빈도는 데이터 세트에서 값이 나타나는 횟수를 나타냅니다. 값의 빈도는 절대 빈도(실제 발생 횟수) 또는 상대 빈도(총 데이터 포인트 수 대비 발생 비율)로 표현할 수 있습니다.\n",
    "\n",
    "분포는 변수 값이 여러 값 범위에 걸쳐 퍼져 있거나 분포되어 있는 방식을 말합니다. 분포는 평균, 중앙값, 모드, 분산, 표준 편차 등 다양한 통계적 측정값을 사용하여 설명할 수 있습니다."
   ]
  },
  {
   "cell_type": "markdown",
   "metadata": {},
   "source": [
    "### 여러 번 주사위 던지기 게임을 모방\n",
    "\n",
    "- 다음 코드는 500번 반복하는 주사위 게임을 모방합니다. 그리고 결과는 모두 `results` 에 저장됩니다."
   ]
  },
  {
   "cell_type": "code",
   "execution_count": 48,
   "metadata": {},
   "outputs": [],
   "source": [
    "trial = 500\n",
    "results = [die.sample(2, replace=True).sum().loc[0] for i in range(trial)]"
   ]
  },
  {
   "cell_type": "code",
   "execution_count": 32,
   "metadata": {},
   "outputs": [
    {
     "name": "stdout",
     "output_type": "stream",
     "text": [
      "[11, 6, 7, 9, 10, 8, 5, 8, 8, 6, 4, 5, 3, 5, 8, 7, 11, 5, 4, 8, 6, 8, 7, 8, 9, 10, 5, 11, 9, 9, 8, 9, 5, 5, 2, 6, 8, 7, 9, 5, 10, 6, 2, 7, 8, 8, 7, 9, 10, 10, 9, 6, 6, 10, 4, 5, 7, 7, 8, 3, 6, 10, 10, 6, 5, 8, 8, 3, 9, 5, 10, 6, 4, 9, 7, 10, 4, 4, 8, 7, 7, 5, 8, 2, 5, 8, 9, 5, 6, 5, 3, 6, 6, 8, 7, 3, 9, 7, 5, 9, 8, 5, 4, 3, 5, 9, 7, 7, 6, 9, 7, 10, 4, 6, 7, 6, 4, 6, 9, 12, 8, 9, 4, 4, 9, 8, 3, 8, 6, 4, 7, 7, 9, 10, 11, 9, 9, 3, 9, 8, 9, 7, 10, 6, 5, 7, 6, 7, 10, 8, 9, 5, 6, 4, 9, 7, 8, 6, 8, 6, 8, 6, 6, 9, 7, 10, 10, 7, 8, 9, 4, 10, 3, 6, 6, 9, 5, 2, 11, 2, 8, 5, 8, 9, 9, 5, 8, 6, 9, 5, 11, 7, 6, 8, 8, 10, 6, 5, 2, 7, 6, 5, 8, 7, 6, 6, 8, 7, 6, 7, 8, 3, 3, 11, 9, 8, 2, 5, 4, 10, 6, 6, 8, 7, 8, 6, 10, 7, 7, 4, 6, 10, 11, 5, 4, 5, 5, 6, 6, 6, 9, 8, 5, 4, 11, 6, 7, 7, 4, 7, 2, 8, 7, 2, 2, 9, 6, 3, 8, 6, 2, 6, 8, 7, 5, 7, 5, 7, 8, 8, 9, 7, 11, 7, 10, 7, 10, 10, 4, 7, 5, 8, 9, 11, 9, 8, 7, 4, 6, 7, 3, 11, 4, 5, 9, 7, 5, 6, 8, 10, 10, 7, 8, 8, 7, 10, 6, 6, 6, 9, 10, 5, 7, 6, 4, 7, 6, 4, 6, 3, 7, 5, 12, 3, 3, 7, 11, 9, 5, 7, 7, 7, 11, 9, 5, 9, 10, 9, 8, 8, 7, 5, 6, 7, 9, 6, 8, 3, 9, 6, 7, 9, 4, 7, 8, 7, 2, 9, 10, 8, 10, 9, 6, 10, 6, 10, 5, 10, 7, 5, 7, 6, 4, 6, 8, 7, 9, 7, 8, 3, 6, 4, 8, 9, 9, 7, 7, 5, 12, 8, 10, 7, 6, 8, 2, 7, 11, 6, 8, 5, 9, 9, 7, 7, 11, 6, 6, 9, 10, 6, 8, 11, 5, 7, 3, 7, 11, 10, 5, 10, 4, 7, 9, 5, 7, 4, 3, 2, 7, 10, 7, 6, 5, 8, 6, 4, 5, 4, 6, 11, 7, 6, 10, 8, 6, 7, 7, 6, 12, 3, 12, 11, 2, 6, 3, 11, 5, 9, 11, 4, 8, 11, 5, 9, 5, 5, 5, 6, 8, 5, 7, 7, 9, 7, 5, 6, 7, 6, 5, 6, 7, 7, 6, 4, 9, 10, 4, 9, 5, 9, 4, 4, 6, 10, 3, 10, 9, 6, 4, 10]\n"
     ]
    }
   ],
   "source": [
    "print(results)"
   ]
  },
  {
   "cell_type": "markdown",
   "metadata": {},
   "source": [
    "합계를 빈도수별로 정리한 코드입니다.  value_counts()는 unique한 값의 개수를 포함하는 시리즈를 반환합니다.  "
   ]
  },
  {
   "cell_type": "code",
   "execution_count": 33,
   "metadata": {},
   "outputs": [
    {
     "data": {
      "text/html": [
       "<div>\n",
       "<style scoped>\n",
       "    .dataframe tbody tr th:only-of-type {\n",
       "        vertical-align: middle;\n",
       "    }\n",
       "\n",
       "    .dataframe tbody tr th {\n",
       "        vertical-align: top;\n",
       "    }\n",
       "\n",
       "    .dataframe thead th {\n",
       "        text-align: right;\n",
       "    }\n",
       "</style>\n",
       "<table border=\"1\" class=\"dataframe\">\n",
       "  <thead>\n",
       "    <tr style=\"text-align: right;\">\n",
       "      <th></th>\n",
       "      <th>주사위합</th>\n",
       "    </tr>\n",
       "  </thead>\n",
       "  <tbody>\n",
       "    <tr>\n",
       "      <th>0</th>\n",
       "      <td>11</td>\n",
       "    </tr>\n",
       "    <tr>\n",
       "      <th>1</th>\n",
       "      <td>6</td>\n",
       "    </tr>\n",
       "    <tr>\n",
       "      <th>2</th>\n",
       "      <td>7</td>\n",
       "    </tr>\n",
       "    <tr>\n",
       "      <th>3</th>\n",
       "      <td>9</td>\n",
       "    </tr>\n",
       "    <tr>\n",
       "      <th>4</th>\n",
       "      <td>10</td>\n",
       "    </tr>\n",
       "  </tbody>\n",
       "</table>\n",
       "</div>"
      ],
      "text/plain": [
       "   주사위합\n",
       "0    11\n",
       "1     6\n",
       "2     7\n",
       "3     9\n",
       "4    10"
      ]
     },
     "execution_count": 33,
     "metadata": {},
     "output_type": "execute_result"
    }
   ],
   "source": [
    "df = pd.DataFrame(results, columns=['주사위합'])\n",
    "df.head()"
   ]
  },
  {
   "cell_type": "markdown",
   "metadata": {},
   "source": [
    "주사위합의 unique한 value 갯수를 구합니다."
   ]
  },
  {
   "cell_type": "code",
   "execution_count": 34,
   "metadata": {},
   "outputs": [
    {
     "data": {
      "text/plain": [
       "7     86\n",
       "6     80\n",
       "8     66\n",
       "9     62\n",
       "5     59\n",
       "10    44\n",
       "4     37\n",
       "11    23\n",
       "3     23\n",
       "2     15\n",
       "12     5\n",
       "Name: 주사위합, dtype: int64"
      ]
     },
     "execution_count": 34,
     "metadata": {},
     "output_type": "execute_result"
    }
   ],
   "source": [
    "freq = df['주사위합'].value_counts()\n",
    "freq"
   ]
  },
  {
   "cell_type": "markdown",
   "metadata": {},
   "source": [
    "주사위합의 순으로 정렬하면 두 개의 주사위를 trial 번 던졌을 때 발생할 수 있는 합계 별로 발생 빈도가 구해집니다."
   ]
  },
  {
   "cell_type": "code",
   "execution_count": 35,
   "metadata": {},
   "outputs": [
    {
     "name": "stdout",
     "output_type": "stream",
     "text": [
      "2     15\n",
      "3     23\n",
      "4     37\n",
      "5     59\n",
      "6     80\n",
      "7     86\n",
      "8     66\n",
      "9     62\n",
      "10    44\n",
      "11    23\n",
      "12     5\n",
      "Name: 주사위합, dtype: int64\n"
     ]
    }
   ],
   "source": [
    "sort_freq = freq.sort_index()\n",
    "print(sort_freq)"
   ]
  },
  {
   "cell_type": "markdown",
   "metadata": {},
   "source": [
    "주사위 합계별 발생 빈도 수를 bar chart로 시각화 합니다."
   ]
  },
  {
   "cell_type": "code",
   "execution_count": 37,
   "metadata": {},
   "outputs": [
    {
     "data": {
      "text/plain": [
       "Text(0.5, 1.0, '두개의 주사위를 500번 던졌을 때 주사위 합계별 발생 빈도')"
      ]
     },
     "execution_count": 37,
     "metadata": {},
     "output_type": "execute_result"
    },
    {
     "data": {
      "image/png": "[encoded data removed]",
      "text/plain": [
       "<Figure size 1000x600 with 1 Axes>"
      ]
     },
     "metadata": {},
     "output_type": "display_data"
    }
   ],
   "source": [
    "sort_freq.plot(kind='bar', color='blue', figsize=(10, 6))\n",
    "plt.xlabel('주사위 합')\n",
    "plt.ylabel('빈도수')\n",
    "plt.title(f'두개의 주사위를 {trial}번 던졌을 때 주사위 합계별 발생 빈도')"
   ]
  },
  {
   "cell_type": "markdown",
   "metadata": {},
   "source": [
    "## Relative Frequency (상대 빈도)\n",
    "\n",
    "- 상대 빈도를 사용하여 다른 시도 횟수의 결과를 비교할 수 있도록 빈도를 재조정할 수 있습니다."
   ]
  },
  {
   "cell_type": "code",
   "execution_count": 38,
   "metadata": {},
   "outputs": [
    {
     "data": {
      "text/plain": [
       "Text(0, 0.5, '상대 빈도')"
      ]
     },
     "execution_count": 38,
     "metadata": {},
     "output_type": "execute_result"
    },
    {
     "data": {
      "image/png": "[encoded data removed]",
      "text/plain": [
       "<Figure size 1000x600 with 1 Axes>"
      ]
     },
     "metadata": {},
     "output_type": "display_data"
    }
   ],
   "source": [
    "relative_freq = sort_freq / trial\n",
    "relative_freq.plot(kind='bar', color='blue', figsize=(10, 6))\n",
    "plt.xlabel('주사위 합')\n",
    "plt.ylabel('상대 빈도')"
   ]
  },
  {
   "cell_type": "markdown",
   "metadata": {},
   "source": [
    "## Distribution (분포)의 평균과 분산\n",
    "\n",
    "$$mean (expectation) = \\sum_{i}x_i p_i$$\n",
    "$$variance = \\sum_{i}(x_i - mean)^2 p_i$$\n",
    "\n",
    "- 분포의 평균과 분산을 출력합니다. 평균과 분산을 사용하여 분포를 설명할 수 있습니다."
   ]
  },
  {
   "cell_type": "code",
   "execution_count": 43,
   "metadata": {},
   "outputs": [
    {
     "data": {
      "text/plain": [
       "7     0.172\n",
       "6     0.160\n",
       "8     0.132\n",
       "9     0.124\n",
       "5     0.118\n",
       "10    0.088\n",
       "4     0.074\n",
       "11    0.046\n",
       "3     0.046\n",
       "2     0.030\n",
       "12    0.010\n",
       "Name: 주사위합, dtype: float64"
      ]
     },
     "execution_count": 43,
     "metadata": {},
     "output_type": "execute_result"
    }
   ],
   "source": [
    "prob = freq / trial\n",
    "prob"
   ]
  },
  {
   "cell_type": "code",
   "execution_count": 44,
   "metadata": {},
   "outputs": [
    {
     "data": {
      "text/plain": [
       "1.0"
      ]
     },
     "execution_count": 44,
     "metadata": {},
     "output_type": "execute_result"
    }
   ],
   "source": [
    "sum(prob)"
   ]
  },
  {
   "cell_type": "markdown",
   "metadata": {},
   "source": [
    "## 평균\n",
    "\n",
    "$$mean (expectation) = \\sum_{i}x_i p_i$$"
   ]
  },
  {
   "cell_type": "code",
   "execution_count": 45,
   "metadata": {},
   "outputs": [
    {
     "data": {
      "text/plain": [
       "Int64Index([7, 6, 8, 9, 5, 10, 4, 11, 3, 2, 12], dtype='int64')"
      ]
     },
     "execution_count": 45,
     "metadata": {},
     "output_type": "execute_result"
    }
   ],
   "source": [
    "prob.index"
   ]
  },
  {
   "cell_type": "code",
   "execution_count": 46,
   "metadata": {},
   "outputs": [
    {
     "data": {
      "text/plain": [
       "array([0.172, 0.16 , 0.132, 0.124, 0.118, 0.088, 0.074, 0.046, 0.046,\n",
       "       0.03 , 0.01 ])"
      ]
     },
     "execution_count": 46,
     "metadata": {},
     "output_type": "execute_result"
    }
   ],
   "source": [
    "prob.values"
   ]
  },
  {
   "cell_type": "code",
   "execution_count": 47,
   "metadata": {},
   "outputs": [
    {
     "data": {
      "text/plain": [
       "6.926"
      ]
     },
     "execution_count": 47,
     "metadata": {},
     "output_type": "execute_result"
    }
   ],
   "source": [
    "mean = sum(prob.index * prob.values)\n",
    "mean"
   ]
  },
  {
   "cell_type": "markdown",
   "metadata": {},
   "source": [
    "**평균 7 은 histogram 에서 나타난 평균 7 과 일치**"
   ]
  },
  {
   "cell_type": "markdown",
   "metadata": {},
   "source": [
    "## 분산\n",
    "- 기댓값 $\\displaystyle \\mu =\\operatorname {E} [X]$$\\displaystyle \\mu =\\operatorname {E} [X]$로부터 확률변수가 얼마나 떨어져있는지 그 정도를 제곱한 것의 기댓값\n",
    "$$variance = \\sum_{i}(x_i -\\mu)^2 p_i$$"
   ]
  },
  {
   "cell_type": "code",
   "execution_count": 49,
   "metadata": {},
   "outputs": [
    {
     "data": {
      "text/plain": [
       "5.184524"
      ]
     },
     "execution_count": 49,
     "metadata": {},
     "output_type": "execute_result"
    }
   ],
   "source": [
    "var = sum((prob.index - mean)**2 * prob.values)\n",
    "var"
   ]
  },
  {
   "cell_type": "markdown",
   "metadata": {},
   "source": [
    "- 표준 편차 - 분산의 제곱근"
   ]
  },
  {
   "cell_type": "code",
   "execution_count": 50,
   "metadata": {},
   "outputs": [
    {
     "data": {
      "text/plain": [
       "2.276954984183921"
      ]
     },
     "execution_count": 50,
     "metadata": {},
     "output_type": "execute_result"
    }
   ],
   "source": [
    "std = np.sqrt(var)\n",
    "std"
   ]
  },
  {
   "cell_type": "markdown",
   "metadata": {},
   "source": [
    "- kde plot 시각화로 평균, 표준 편차 확인\n",
    "\n",
    "커널 밀도 추정(KDE) 플롯은 데이터 집합의 확률 밀도 함수를 표시하는 데 사용되는 데이터 시각화의 한 유형입니다. 히스토그램과 유사하지만 데이터를 불연속 구간차원으로 나누는 대신 연속 함수를 사용하여 데이터의 분포를 추정합니다."
   ]
  },
  {
   "cell_type": "code",
   "execution_count": 52,
   "metadata": {},
   "outputs": [
    {
     "data": {
      "text/plain": [
       "<AxesSubplot:ylabel='Density'>"
      ]
     },
     "execution_count": 52,
     "metadata": {},
     "output_type": "execute_result"
    },
    {
     "data": {
      "image/png": "[encoded data removed]",
      "text/plain": [
       "<Figure size 640x480 with 1 Axes>"
      ]
     },
     "metadata": {},
     "output_type": "display_data"
    }
   ],
   "source": [
    "pd.DataFrame(results).plot(kind='kde')"
   ]
  },
  {
   "cell_type": "markdown",
   "metadata": {},
   "source": [
    "계산한 평균, 표준 편차와 시각화 내용이 일치됨을 확인할 수 있습니다."
   ]
  },
  {
   "cell_type": "markdown",
   "metadata": {},
   "source": [
    "## 모집단, 표본집단, 신뢰구간\n",
    "\n",
    "모집단(population), 표본집단(sample), 그리고 신뢰구간(confidence interval)은 통계학에서 중요한 개념입니다.\n",
    "\n",
    "모집단은 조사 대상 전체를 의미하며, 모든 데이터를 포함합니다. 예를 들어, 전국 모든 학생들의 키를 조사하는 경우, 전국 모든 학생들이 모집단입니다.\n",
    "\n",
    "표본집단은 모집단에서 추출한 일부 데이터를 의미합니다. 표본집단은 모집단을 대표할 수 있는 적절한 크기로 추출되어야 합니다. 예를 들어, 전국 모든 학생들 중에서 100명의 학생들의 키를 측정하여 통계적 분석을 진행하는 경우, 이 100명의 학생들이 표본집단입니다.\n",
    "\n",
    "신뢰구간은 표본집단의 평균을 포함할 가능성이 높은 구간을 의미합니다. 즉, 신뢰구간은 모집단의 평균을 추정하는 데 사용됩니다. 예를 들어, 전국 모든 학생들의 키를 알고 싶은 경우, 전국 학생들 중에서 샘플링한 학생들의 키를 기반으로 신뢰구간을 계산하여 전국 모든 학생들의 키를 추정할 수 있습니다."
   ]
  },
  {
   "cell_type": "markdown",
   "metadata": {},
   "source": [
    "## 모집단"
   ]
  },
  {
   "cell_type": "markdown",
   "metadata": {},
   "source": [
    "10개의 데이터로 모집단 DataFram을 만듭니다."
   ]
  },
  {
   "cell_type": "code",
   "execution_count": 54,
   "metadata": {},
   "outputs": [
    {
     "data": {
      "text/html": [
       "<div>\n",
       "<style scoped>\n",
       "    .dataframe tbody tr th:only-of-type {\n",
       "        vertical-align: middle;\n",
       "    }\n",
       "\n",
       "    .dataframe tbody tr th {\n",
       "        vertical-align: top;\n",
       "    }\n",
       "\n",
       "    .dataframe thead th {\n",
       "        text-align: right;\n",
       "    }\n",
       "</style>\n",
       "<table border=\"1\" class=\"dataframe\">\n",
       "  <thead>\n",
       "    <tr style=\"text-align: right;\">\n",
       "      <th></th>\n",
       "      <th>Population</th>\n",
       "    </tr>\n",
       "  </thead>\n",
       "  <tbody>\n",
       "    <tr>\n",
       "      <th>0</th>\n",
       "      <td>47</td>\n",
       "    </tr>\n",
       "    <tr>\n",
       "      <th>1</th>\n",
       "      <td>48</td>\n",
       "    </tr>\n",
       "    <tr>\n",
       "      <th>2</th>\n",
       "      <td>85</td>\n",
       "    </tr>\n",
       "    <tr>\n",
       "      <th>3</th>\n",
       "      <td>20</td>\n",
       "    </tr>\n",
       "    <tr>\n",
       "      <th>4</th>\n",
       "      <td>19</td>\n",
       "    </tr>\n",
       "    <tr>\n",
       "      <th>5</th>\n",
       "      <td>13</td>\n",
       "    </tr>\n",
       "    <tr>\n",
       "      <th>6</th>\n",
       "      <td>72</td>\n",
       "    </tr>\n",
       "    <tr>\n",
       "      <th>7</th>\n",
       "      <td>16</td>\n",
       "    </tr>\n",
       "    <tr>\n",
       "      <th>8</th>\n",
       "      <td>50</td>\n",
       "    </tr>\n",
       "    <tr>\n",
       "      <th>9</th>\n",
       "      <td>60</td>\n",
       "    </tr>\n",
       "  </tbody>\n",
       "</table>\n",
       "</div>"
      ],
      "text/plain": [
       "   Population\n",
       "0          47\n",
       "1          48\n",
       "2          85\n",
       "3          20\n",
       "4          19\n",
       "5          13\n",
       "6          72\n",
       "7          16\n",
       "8          50\n",
       "9          60"
      ]
     },
     "execution_count": 54,
     "metadata": {},
     "output_type": "execute_result"
    }
   ],
   "source": [
    "data = pd.DataFrame()\n",
    "data['Population'] = [47, 48, 85, 20, 19, 13, 72, 16, 50, 60]\n",
    "data"
   ]
  },
  {
   "cell_type": "markdown",
   "metadata": {},
   "source": [
    "모집단에서 5개의 샘플을 복원추출법으로 뽑습니다.  \n",
    "\n",
    "복원추출법(bootstrapping)은 통계학에서 자주 사용되는 표본추출 방법 중 하나입니다. 복원추출법은 표본추출시 무작위로 하나의 데이터를 추출한 후, 해당 데이터를 다시 모집단에 반환하고, 다음 데이터를 무작위로 추출하는 방법입니다.   \n",
    "반면 비복원추출법(nonparametric sampling)은 한 번 추출한 데이터는 다시 추출되지 않는 방법을 말합니다. 즉, 추출된 각 데이터는 유일한 값이어야 합니다. "
   ]
  },
  {
   "cell_type": "code",
   "execution_count": 55,
   "metadata": {},
   "outputs": [
    {
     "name": "stdout",
     "output_type": "stream",
     "text": [
      "6    72\n",
      "2    85\n",
      "2    85\n",
      "0    47\n",
      "3    20\n",
      "Name: Population, dtype: int64\n"
     ]
    }
   ],
   "source": [
    "sample_with_replacement = data['Population'].sample(5, replace=True)\n",
    "print(sample_with_replacement)"
   ]
  },
  {
   "cell_type": "markdown",
   "metadata": {},
   "source": [
    "- 비복원 추출법"
   ]
  },
  {
   "cell_type": "code",
   "execution_count": 56,
   "metadata": {},
   "outputs": [
    {
     "name": "stdout",
     "output_type": "stream",
     "text": [
      "7    16\n",
      "0    47\n",
      "6    72\n",
      "8    50\n",
      "5    13\n",
      "Name: Population, dtype: int64\n"
     ]
    }
   ],
   "source": [
    "sample_without_replacement = data['Population'].sample(5, replace=False)\n",
    "print(sample_without_replacement)"
   ]
  },
  {
   "cell_type": "markdown",
   "metadata": {},
   "source": [
    "## 모수와 통계치(Parameters and Statistics)"
   ]
  },
  {
   "cell_type": "code",
   "execution_count": 57,
   "metadata": {},
   "outputs": [
    {
     "name": "stdout",
     "output_type": "stream",
     "text": [
      "모집단 평균  43.0\n",
      "모집단 표준편차 25.20581943387942\n"
     ]
    }
   ],
   "source": [
    "mu = data['Population'].mean()\n",
    "std = data['Population'].std()  \n",
    "\n",
    "print('모집단 평균 ', mu)\n",
    "print('모집단 표준편차', std)"
   ]
  },
  {
   "cell_type": "code",
   "execution_count": null,
   "metadata": {},
   "outputs": [],
   "source": []
  }
 ],
 "metadata": {
  "kernelspec": {
   "display_name": "Python 3 (ipykernel)",
   "language": "python",
   "name": "python3"
  },
  "language_info": {
   "codemirror_mode": {
    "name": "ipython",
    "version": 3
   },
   "file_extension": ".py",
   "mimetype": "text/x-python",
   "name": "python",
   "nbconvert_exporter": "python",
   "pygments_lexer": "ipython3",
   "version": "3.9.13"
  }
 },
 "nbformat": 4,
 "nbformat_minor": 2
}
