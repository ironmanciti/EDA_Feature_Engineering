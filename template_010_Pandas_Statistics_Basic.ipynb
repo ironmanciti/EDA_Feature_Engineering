{
 "cells": [
  {
   "cell_type": "markdown",
   "metadata": {},
   "source": [
    "# Pandas를 활용한 통계 기초 및 시각화"
   ]
  },
  {
   "cell_type": "markdown",
   "metadata": {},
   "source": [
    "## Discrete Random Variables (이산 확률 변수)\n",
    "이산 환율 변수는 셀 수 있는 수의 값만 취할 수 있는 확률 변수의 한 유형입니다. 이러한 값은 일반적으로 정수이지만 다른 셀 수 있는 값 집합일 수도 있습니다."
   ]
  },
  {
   "cell_type": "markdown",
   "metadata": {},
   "source": [
    "### 주사위 게임\n",
    "\n",
    "2개의 주사위를 굴린 결과를 모방하므로 다른 결과를 얻을 수 있지만 범위는 2에서 12 사이로 제한되어야 합니다."
   ]
  },
  {
   "cell_type": "markdown",
   "metadata": {},
   "source": [
    "두개의 주사위를 던진다 -> 1~6 숫자를 두번 복원 추출."
   ]
  },
  {
   "cell_type": "markdown",
   "metadata": {},
   "source": [
    "두개의 주사위 던지기 합계 값 모사합니다."
   ]
  },
  {
   "cell_type": "markdown",
   "metadata": {},
   "source": [
    "3개의 주사위 던지기를 모사합니다."
   ]
  },
  {
   "cell_type": "markdown",
   "metadata": {},
   "source": [
    "## Frequency and Distribution (빈도 및 분포)\n",
    "통계에서 빈도는 데이터 세트에서 값이 나타나는 횟수를 나타냅니다. 값의 빈도는 절대 빈도(실제 발생 횟수) 또는 상대 빈도(총 데이터 포인트 수 대비 발생 비율)로 표현할 수 있습니다.\n",
    "\n",
    "분포는 변수 값이 여러 값 범위에 걸쳐 퍼져 있거나 분포되어 있는 방식을 말합니다. 분포는 평균, 중앙값, 모드, 분산, 표준 편차 등 다양한 통계적 측정값을 사용하여 설명할 수 있습니다."
   ]
  },
  {
   "cell_type": "markdown",
   "metadata": {},
   "source": [
    "### 여러 번 주사위 던지기 게임을 모방\n",
    "\n",
    "- 다음 코드는 500번 반복하는 주사위 게임을 모방합니다. 그리고 결과는 모두 `results` 에 저장됩니다."
   ]
  },
  {
   "cell_type": "markdown",
   "metadata": {},
   "source": [
    "합계를 빈도수별로 정리한 코드입니다.  value_counts()는 unique한 값의 개수를 포함하는 시리즈를 반환합니다.  "
   ]
  },
  {
   "cell_type": "markdown",
   "metadata": {},
   "source": [
    "주사위합의 unique한 value 갯수를 구합니다."
   ]
  },
  {
   "cell_type": "markdown",
   "metadata": {},
   "source": [
    "주사위합의 순으로 정렬하면 두 개의 주사위를 trial 번 던졌을 때 발생할 수 있는 합계 별로 발생 빈도가 구해집니다."
   ]
  },
  {
   "cell_type": "markdown",
   "metadata": {},
   "source": [
    "주사위 합계별 발생 빈도 수를 bar chart로 시각화 합니다."
   ]
  },
  {
   "cell_type": "markdown",
   "metadata": {},
   "source": [
    "## Relative Frequency (상대 빈도)\n",
    "\n",
    "- 상대 빈도를 사용하여 다른 시도 횟수의 결과를 비교할 수 있도록 빈도를 재조정할 수 있습니다."
   ]
  },
  {
   "cell_type": "markdown",
   "metadata": {},
   "source": [
    "## Distribution (분포)의 평균과 분산\n",
    "\n",
    "$$mean (expectation) = \\sum_{i}x_i p_i$$\n",
    "$$variance = \\sum_{i}(x_i - mean)^2 p_i$$\n",
    "\n",
    "- 분포의 평균과 분산을 출력합니다. 평균과 분산을 사용하여 분포를 설명할 수 있습니다."
   ]
  },
  {
   "cell_type": "markdown",
   "metadata": {},
   "source": [
    "## 평균\n",
    "\n",
    "$$mean (expectation) = \\sum_{i}x_i p_i$$"
   ]
  },
  {
   "cell_type": "markdown",
   "metadata": {},
   "source": [
    "**평균 7 은 histogram 에서 나타난 평균 7 과 일치**"
   ]
  },
  {
   "cell_type": "markdown",
   "metadata": {},
   "source": [
    "## 분산\n",
    "- 기댓값 $\\displaystyle \\mu =\\operatorname {E} [X]$$\\displaystyle \\mu =\\operatorname {E} [X]$로부터 확률변수가 얼마나 떨어져있는지 그 정도를 제곱한 것의 기댓값\n",
    "$$variance = \\sum_{i}(x_i -\\mu)^2 p_i$$"
   ]
  },
  {
   "cell_type": "markdown",
   "metadata": {},
   "source": [
    "- 표준 편차 - 분산의 제곱근"
   ]
  },
  {
   "cell_type": "markdown",
   "metadata": {},
   "source": [
    "- kde plot 시각화로 평균, 표준 편차 확인\n",
    "\n",
    "커널 밀도 추정(KDE) 플롯은 데이터 집합의 확률 밀도 함수를 표시하는 데 사용되는 데이터 시각화의 한 유형입니다. 히스토그램과 유사하지만 데이터를 불연속 구간차원으로 나누는 대신 연속 함수를 사용하여 데이터의 분포를 추정합니다."
   ]
  },
  {
   "cell_type": "markdown",
   "metadata": {},
   "source": [
    "계산한 평균, 표준 편차와 시각화 내용이 일치됨을 확인할 수 있습니다."
   ]
  },
  {
   "cell_type": "markdown",
   "metadata": {},
   "source": [
    "## 모집단, 표본집단, 신뢰구간\n",
    "\n",
    "모집단(population), 표본집단(sample), 그리고 신뢰구간(confidence interval)은 통계학에서 중요한 개념입니다.\n",
    "\n",
    "모집단은 조사 대상 전체를 의미하며, 모든 데이터를 포함합니다. 예를 들어, 전국 모든 학생들의 키를 조사하는 경우, 전국 모든 학생들이 모집단입니다.\n",
    "\n",
    "표본집단은 모집단에서 추출한 일부 데이터를 의미합니다. 표본집단은 모집단을 대표할 수 있는 적절한 크기로 추출되어야 합니다. 예를 들어, 전국 모든 학생들 중에서 100명의 학생들의 키를 측정하여 통계적 분석을 진행하는 경우, 이 100명의 학생들이 표본집단입니다.\n",
    "\n",
    "신뢰구간은 표본집단의 평균을 포함할 가능성이 높은 구간을 의미합니다. 즉, 신뢰구간은 모집단의 평균을 추정하는 데 사용됩니다. 예를 들어, 전국 모든 학생들의 키를 알고 싶은 경우, 전국 학생들 중에서 샘플링한 학생들의 키를 기반으로 신뢰구간을 계산하여 전국 모든 학생들의 키를 추정할 수 있습니다."
   ]
  },
  {
   "cell_type": "markdown",
   "metadata": {},
   "source": [
    "## 모집단"
   ]
  },
  {
   "cell_type": "markdown",
   "metadata": {},
   "source": [
    "10개의 데이터로 모집단 DataFram을 만듭니다."
   ]
  },
  {
   "cell_type": "markdown",
   "metadata": {},
   "source": [
    "모집단에서 5개의 샘플을 복원추출법으로 뽑습니다.  \n",
    "\n",
    "복원추출법(bootstrapping)은 통계학에서 자주 사용되는 표본추출 방법 중 하나입니다. 복원추출법은 표본추출시 무작위로 하나의 데이터를 추출한 후, 해당 데이터를 다시 모집단에 반환하고, 다음 데이터를 무작위로 추출하는 방법입니다.   \n",
    "반면 비복원추출법(nonparametric sampling)은 한 번 추출한 데이터는 다시 추출되지 않는 방법을 말합니다. 즉, 추출된 각 데이터는 유일한 값이어야 합니다. "
   ]
  },
  {
   "cell_type": "markdown",
   "metadata": {},
   "source": [
    "- 비복원 추출법"
   ]
  },
  {
   "cell_type": "markdown",
   "metadata": {},
   "source": [
    "## 모수와 통계치(Parameters and Statistics)"
   ]
  }
 ],
 "metadata": {
  "kernelspec": {
   "display_name": "Python 3 (ipykernel)",
   "language": "python",
   "name": "python3"
  },
  "language_info": {
   "codemirror_mode": {
    "name": "ipython",
    "version": 3
   },
   "file_extension": ".py",
   "mimetype": "text/x-python",
   "name": "python",
   "nbconvert_exporter": "python",
   "pygments_lexer": "ipython3",
   "version": "3.9.13"
  }
 },
 "nbformat": 4,
 "nbformat_minor": 2
}
