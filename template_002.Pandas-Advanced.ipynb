{
 "cells": [
  {
   "cell_type": "markdown",
   "metadata": {
    "slideshow": {
     "slide_type": "slide"
    }
   },
   "source": [
    "# Pandas 고급"
   ]
  },
  {
   "cell_type": "markdown",
   "metadata": {},
   "source": [
    "### DataFrame 을 csv file 로 write"
   ]
  },
  {
   "cell_type": "markdown",
   "metadata": {},
   "source": [
    "### df.apply + lambda \n",
    "- 특정 column 에 함수의 반환값 저장"
   ]
  },
  {
   "cell_type": "markdown",
   "metadata": {},
   "source": [
    "### lambda 보다 더 복잡한 함수 적용"
   ]
  },
  {
   "cell_type": "markdown",
   "metadata": {},
   "source": [
    "## Indexing of DataFrame"
   ]
  },
  {
   "cell_type": "markdown",
   "metadata": {},
   "source": [
    "### column 명 변경\n",
    "- column 명을 friendly 하게 변경"
   ]
  },
  {
   "cell_type": "markdown",
   "metadata": {},
   "source": [
    "### Boolean indexing\n",
    "\n",
    "- Boolean mask condition 으로 DataFrame을 검색하여 조건에 맞는 row 검색\n",
    "\n",
    "- where : no value 포함하여 return  \n",
    "\n",
    "- boolean indexing : no value 제외 return"
   ]
  },
  {
   "cell_type": "markdown",
   "metadata": {},
   "source": [
    "- where 를 이용하여 모든 row return"
   ]
  },
  {
   "cell_type": "markdown",
   "metadata": {},
   "source": [
    "- boolean indexing을 이용하여 조건에 맞는 row만 return"
   ]
  },
  {
   "cell_type": "markdown",
   "metadata": {},
   "source": [
    "### 복사본 만들기 - 얕은 복사(shallow copy) / 깊은 복사(deep copy)\n",
    "\n",
    "- 얕은 복사 : 원본과 index/data 공유  \n",
    "- 깊은 복사 : 별도의 index/data 생성"
   ]
  },
  {
   "cell_type": "markdown",
   "metadata": {},
   "source": [
    "## 다중인덱싱 (Multi Index)\n",
    "\n",
    "- index 가 여러개일 경우 다중 인덱싱이 가능하다."
   ]
  },
  {
   "cell_type": "markdown",
   "metadata": {},
   "source": [
    "## multi index 연습 \n",
    "\n",
    "- country / state / county level 의 summary 를 구하기 위해 사용  \n",
    "- STNAME : state 명 \n",
    "- CTYNAME : county 명  \n",
    "- SUMLEV 50 은 county level의 합계 (STNAME 과 CTYNAME이 동일), 40 은 state level 의 합계"
   ]
  },
  {
   "cell_type": "markdown",
   "metadata": {},
   "source": [
    "- 필요한 column 외에는 삭제"
   ]
  },
  {
   "cell_type": "markdown",
   "metadata": {},
   "source": [
    "- (state 명, county 명)으로 multi index 생성"
   ]
  },
  {
   "cell_type": "markdown",
   "metadata": {},
   "source": [
    "- 특정 state, county 만 query"
   ]
  },
  {
   "cell_type": "markdown",
   "metadata": {},
   "source": [
    "### apply \n",
    "- county 별로 전체 column의 최대, 최소값 계산"
   ]
  },
  {
   "cell_type": "markdown",
   "metadata": {},
   "source": [
    "- 최대/최소값을 series 로 반환하는 경우 "
   ]
  },
  {
   "cell_type": "markdown",
   "metadata": {},
   "source": [
    "- new column을 반환하는 경우 "
   ]
  },
  {
   "cell_type": "markdown",
   "metadata": {},
   "source": [
    "## Column Value Update"
   ]
  },
  {
   "cell_type": "markdown",
   "metadata": {},
   "source": [
    "- 새로운 column 추가"
   ]
  },
  {
   "cell_type": "markdown",
   "metadata": {},
   "source": [
    "- broadcasting"
   ]
  },
  {
   "cell_type": "markdown",
   "metadata": {},
   "source": [
    "- index 재설정"
   ]
  },
  {
   "cell_type": "markdown",
   "metadata": {},
   "source": [
    "- 특정 column 의 값을 Series를 이용하여 update"
   ]
  },
  {
   "cell_type": "markdown",
   "metadata": {},
   "source": [
    "# Merging and Concatenating"
   ]
  },
  {
   "cell_type": "markdown",
   "metadata": {},
   "source": [
    "## Concatenation\n",
    "\n",
    "- Concatenation 은 DataFrame 들을 단순히 가져다 붙이는 것이다. \n",
    "- DataFrame 들의 dimension 이 반드시 같아야 한다.  \n",
    "- SQL 의 UNION 에 해당  \n",
    "- 두개 이상의 DataFrame 연결"
   ]
  },
  {
   "cell_type": "markdown",
   "metadata": {},
   "source": [
    "## Merging\n",
    "\n",
    "- Pandas 의 **merge** mothod는 SQL Table merge 와 유사한 기능을 제공한다.   \n",
    "- 두개의 DataFrame 을 대상으로 한다.  \n",
    "- index 를 기준으로 join"
   ]
  },
  {
   "cell_type": "markdown",
   "metadata": {},
   "source": [
    "### DataFrame 간의 Join\n",
    "\n",
    "<img src=\"venDiagram.png\" width=400>\n",
    "<p> Inner Join (Intersection) </p>\n",
    "<img src=\"innerJoin.png\" width=300>"
   ]
  },
  {
   "cell_type": "markdown",
   "metadata": {},
   "source": [
    "### outer join \n",
    "\n",
    "- 두 DataFrame 의 모든 index 포함"
   ]
  },
  {
   "cell_type": "markdown",
   "metadata": {},
   "source": [
    "### inner join (default)\n",
    "- intersection (교집합)  \n",
    "- 두 DataFrame 에 공통적으로 존재하는 index 기준"
   ]
  },
  {
   "cell_type": "markdown",
   "metadata": {},
   "source": [
    "### left join $\\rightarrow$ SQL 의 left outer join 과 유사 \n",
    "- left DataFrame 은 모두 포함되고 right DataFrame 은 공통 index 만 포함"
   ]
  },
  {
   "cell_type": "markdown",
   "metadata": {},
   "source": [
    "### right join $\\rightarrow$ SQL 의 right outer join 과 유사 \n",
    "\n",
    "- right DataFrame 은 모두 포함되고 left DataFrame 은 공통 index 만 포함"
   ]
  },
  {
   "cell_type": "markdown",
   "metadata": {},
   "source": [
    "### index 가 단순 sequence 일 경우 join 에 사용할 column 지정"
   ]
  },
  {
   "cell_type": "markdown",
   "metadata": {},
   "source": [
    "### 중복된 column 명이 있을 경우 자동으로 suffix 부여"
   ]
  },
  {
   "cell_type": "markdown",
   "metadata": {},
   "source": [
    "### left : `_x`, right: `_y`"
   ]
  },
  {
   "cell_type": "markdown",
   "metadata": {},
   "source": [
    "## 연습 문제 - 1\n",
    "\n",
    "- 다음과 같은 두개의 DataFrame 을 생성하고 하나의 DataFrame 으로 join\n",
    "\n",
    "### product DataFrame\n",
    "\n",
    "- productID를 index 로 사용하는 dataframe\n",
    "\n",
    "| productID | Price | Product | \n",
    "|:---:|:---:|:---:|\n",
    "| 4109| 5.0 | Sushi Roll | \n",
    "| 1412 | 0.5 | Egg |\n",
    "| 8931 | 1.5 | Bagel |\n",
    "\n",
    "### invoice DataFrame\n",
    "\n",
    "- sequence가 index인 dataframe\n",
    "\n",
    "<table>\n",
    "    <th></th>\n",
    "    <th>Customer</th>\n",
    "    <th>ProductId</th>\n",
    "    <th>Quantity</th>\n",
    "    <tr>\n",
    "    <td>0</td>\n",
    "     <td>ALi</td>\n",
    "     <td>4109</td>\n",
    "     <td>1</td>\n",
    "    </tr>\n",
    "    <tr>\n",
    "    <td>1</td>\n",
    "    <td>Eric</td>\n",
    "     <td>1412</td>\n",
    "     <td>12</td>\n",
    "     </tr>\n",
    "    <tr>\n",
    "     <td>2</td>\n",
    "    <td>Ande</td>\n",
    "     <td>8931</td>\n",
    "     <td>6</td>\n",
    "     </tr>\n",
    "    <tr>\n",
    "    <td>3</td>\n",
    "    <td>Sam</td>\n",
    "    <td>4109</td>   \n",
    "    <td>2</td>\n",
    "    </tr>\n",
    "</table>\n",
    "\n",
    "- productID를 기준으로 join"
   ]
  },
  {
   "cell_type": "markdown",
   "metadata": {},
   "source": [
    "```\n",
    "  Customer  ProductID  Quantity  Price     Product\n",
    "0      Ali          4109         1          5.0    Sushi Roll\n",
    "3      Sam       4109         2          5.0    Sushi Roll\n",
    "1     Eric         1412        12         0.5         Egg\n",
    "2     Ande       8931         6          1.5       Bagel\n",
    "```"
   ]
  },
  {
   "cell_type": "markdown",
   "metadata": {},
   "source": [
    "## Method Chaining\n",
    "\n",
    "- readability를 향상 시키는 코딩 관습"
   ]
  },
  {
   "cell_type": "markdown",
   "metadata": {},
   "source": [
    "- method chaining 사용 않을 경우"
   ]
  },
  {
   "cell_type": "markdown",
   "metadata": {},
   "source": [
    "- method chaining을 사용할 경우 \n",
    "\n",
    "- python은 `()`를 이용하면 여러 line 에 걸쳐 coding 가능"
   ]
  },
  {
   "cell_type": "markdown",
   "metadata": {},
   "source": [
    "## groupby\n",
    "\n",
    "### groupby 를 사용하지 않고 wine quaility 별 평균 fixed acidity 구하기"
   ]
  },
  {
   "cell_type": "markdown",
   "metadata": {},
   "source": [
    "###  group by 를 사용하여 wine quaility 별 평균 fixed acidity 구하기"
   ]
  },
  {
   "cell_type": "markdown",
   "metadata": {},
   "source": [
    "### groupby + aggregate method 사용\n",
    "- agg : alias of aggretate"
   ]
  },
  {
   "cell_type": "markdown",
   "metadata": {},
   "source": [
    "## Scales (척도)\n",
    "\n",
    "- 명목 척도 (nominal scale): 말 그대로 이름뿐인 척도. Categorical data. 순서 없음. (예. 남성, 여성, 동물 종류)\n",
    "\n",
    "- 순위 척도(ordinal scale) : 말 그대로 순위를 나타내는 척도 (예. 성적) \n",
    "\n",
    "- 등간 척도(interval scale): 척도간의 간격이 일정. 0이 아무런 기준을 갖지 않음.(예. 온도)   \n",
    "\n",
    "- 비율 척도 (ratio scale): 절대 영점이 있는 등간 척도. 0이 절대적인 기준이 되며 두 척도 사이에 비율이 존재. 우리가 사용하는 대부분의 척도 \n",
    "(예. 거리, 무게, 시간 등). 일반 numeric variable."
   ]
  },
  {
   "cell_type": "markdown",
   "metadata": {},
   "source": [
    "### Pandas 로 명목 척도 (Nominal Scale) 표현\n",
    "\n",
    "- 명목 변수 (Nominal Variable) 처리를 위한 Dummy Variable 생성\n",
    "- pd.get_dummies() method 사용"
   ]
  },
  {
   "cell_type": "markdown",
   "metadata": {},
   "source": [
    "### Pandas로 순서가 있는 Category 변수 (순위 척도) 표현\n",
    "\n",
    "- data type 변환 방법 \n",
    "\n",
    "    - Grades column 을 순서가 있는 category column 으로 변환. \n",
    "    - number 로 encoding 않아도 data 자체에서 category 의 순서를 기억하도록 Pandas 가 지원\n",
    "    - pd.factorize method를 이용하여 integer 변환"
   ]
  },
  {
   "cell_type": "markdown",
   "metadata": {},
   "source": [
    "- 순위 변수의 dtype 을 category 로 변환"
   ]
  },
  {
   "cell_type": "markdown",
   "metadata": {},
   "source": [
    "### 등간척도 (interval scale) 표현 --> binning\n",
    "- 연속된 숫자를 구간화 (등간 척도)\n",
    "\n",
    "- pandas 는 `cut` method로 binning 지원"
   ]
  },
  {
   "cell_type": "markdown",
   "metadata": {},
   "source": [
    "#### 3 구간으로 구분"
   ]
  },
  {
   "cell_type": "markdown",
   "metadata": {},
   "source": [
    "- category 속성"
   ]
  },
  {
   "cell_type": "markdown",
   "metadata": {},
   "source": [
    " - pd.factorize method를 이용하여 등간척도를 integer 변환"
   ]
  },
  {
   "cell_type": "markdown",
   "metadata": {},
   "source": [
    "- category 제거"
   ]
  },
  {
   "cell_type": "markdown",
   "metadata": {},
   "source": [
    "- category 추가"
   ]
  },
  {
   "cell_type": "markdown",
   "metadata": {},
   "source": [
    "### category 변수 실습 "
   ]
  },
  {
   "cell_type": "markdown",
   "metadata": {},
   "source": [
    "## Pivot Tabels\n",
    "\n",
    "- 여러 데이터 중에서 자신이 원하는 데이터만을 가지고 원하는 행과 열에 데이터를 배치하여 새로운 보고서를 만드는 기능  "
   ]
  },
  {
   "cell_type": "markdown",
   "metadata": {},
   "source": [
    "### pivot table 작성예 1\n",
    "- 전기차 연비 data 에서 연도, 제작사 (`YEAR`, `Make`) 별로 평균 배터리용량 `(kw)` 을 보여주는 pivot table 생성  \n",
    "\n",
    "- 연도를 index 로 하고, 제작사를 column 에 배치 \n",
    "\n",
    "- pivot table 의 value 는 해당연도 제작사 배터리 용량의 평균값 표시"
   ]
  },
  {
   "cell_type": "markdown",
   "metadata": {},
   "source": [
    "### pivot table 작성 예 2\n",
    "\n",
    "- 위와 동일한 방법으로 평균과 최소량을 동시에 보여주는 pivot table 생성"
   ]
  },
  {
   "cell_type": "markdown",
   "metadata": {},
   "source": [
    "- aggfunc 별 subtotal 추가  \n",
    "\n",
    "    - margins = True"
   ]
  },
  {
   "cell_type": "markdown",
   "metadata": {},
   "source": [
    "## 연습 문제 - 2\n",
    "\n",
    "- 위의 cars.csv 파일의 column 명이 너무 길므로 column 명 중 `(kW)` 를 `kw` 로,  `CITY (kWh/100 km)` 을 `city-km` 으로 변경  \n",
    "\n",
    "- groupby 함수를 사용하여,  연도별 평균 배터리 용량(`kw`) 표시 (`Make` 무시)  \n",
    "\n",
    "- 연도, 제작사별로 평균 `city-km`을 보여주는 pivot table 작성 "
   ]
  },
  {
   "cell_type": "markdown",
   "metadata": {},
   "source": [
    "# 날자 data 처리 기능\n",
    "\n",
    "### Timestamp\n",
    "\n",
    "- Python 의 datetime 과 대부분의 경우 호환  \n",
    "\n",
    "- DatetimeIndex 로 사용"
   ]
  },
  {
   "cell_type": "markdown",
   "metadata": {},
   "source": [
    "### DatetimeIndex"
   ]
  },
  {
   "cell_type": "markdown",
   "metadata": {},
   "source": [
    "### Datetime format 으로 convert\n",
    "\n",
    "- 다양한 현태의 날자 표현을 모두 `pd.to_datetime` method를 이용하여 DatetimeIndex로 변환"
   ]
  },
  {
   "cell_type": "markdown",
   "metadata": {},
   "source": [
    "### Timedelta\n",
    "\n",
    "- difference of time"
   ]
  }
 ],
 "metadata": {
  "kernelspec": {
   "display_name": "Python 3 (ipykernel)",
   "language": "python",
   "name": "python3"
  },
  "language_info": {
   "codemirror_mode": {
    "name": "ipython",
    "version": 3
   },
   "file_extension": ".py",
   "mimetype": "text/x-python",
   "name": "python",
   "nbconvert_exporter": "python",
   "pygments_lexer": "ipython3",
   "version": "3.9.13"
  }
 },
 "nbformat": 4,
 "nbformat_minor": 2
}
