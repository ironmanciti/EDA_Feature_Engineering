{
 "cells": [
  {
   "cell_type": "markdown",
   "metadata": {
    "slideshow": {
     "slide_type": "slide"
    }
   },
   "source": [
    "# Matplotlib 기초"
   ]
  },
  {
   "cell_type": "markdown",
   "metadata": {
    "slideshow": {
     "slide_type": "slide"
    }
   },
   "source": [
    "# Basic Plotting with matplotlib\n",
    "\n",
    "## matplotlib 은 두가지 style 로 사용 가능"
   ]
  },
  {
   "cell_type": "markdown",
   "metadata": {
    "slideshow": {
     "slide_type": "subslide"
    }
   },
   "source": [
    "1. Functional Programing Style  \n",
    "```\n",
    "import matplotlib.pyplot as plt  \n",
    "plt.plot(x, y)\n",
    "```\n",
    "\n",
    "2. OOP style\n",
    "```\n",
    "fig, ax = plt.subplots()  \n",
    "ax.plot(x, y)\n",
    "```"
   ]
  },
  {
   "cell_type": "markdown",
   "metadata": {
    "slideshow": {
     "slide_type": "subslide"
    }
   },
   "source": [
    "### pyplot 의 object 구성\n",
    "\n",
    "<center><img src=\"fig_map.webp\" width=\"350\"/></center>"
   ]
  },
  {
   "cell_type": "markdown",
   "metadata": {
    "slideshow": {
     "slide_type": "slide"
    }
   },
   "source": [
    "## Functional Programming Style"
   ]
  },
  {
   "cell_type": "markdown",
   "metadata": {
    "slideshow": {
     "slide_type": "slide"
    }
   },
   "source": [
    "### 점찍기"
   ]
  },
  {
   "cell_type": "markdown",
   "metadata": {
    "slideshow": {
     "slide_type": "slide"
    }
   },
   "source": [
    "### 선긋기"
   ]
  },
  {
   "cell_type": "markdown",
   "metadata": {},
   "source": [
    "## subplot\n",
    "\n",
    "plt.subplot()은 단일 그림 내에 여러 개의 하위 플롯을 만들 수 있는 함수입니다. 하위 플롯은 기본적으로 큰 플롯 내에 함께 배열된 작은 플롯으로, 서로 다른 데이터 집합을 비교하거나 단일 데이터 집합의 여러 측면을 시각화하는 데 유용할 수 있습니다."
   ]
  },
  {
   "cell_type": "markdown",
   "metadata": {},
   "source": [
    "### figure size 조절"
   ]
  },
  {
   "cell_type": "markdown",
   "metadata": {},
   "source": [
    "x 값을 생략하면 y 의 index 가 default x 값이 됩니다."
   ]
  },
  {
   "cell_type": "markdown",
   "metadata": {
    "slideshow": {
     "slide_type": "slide"
    }
   },
   "source": [
    "### title, label 추가"
   ]
  },
  {
   "cell_type": "markdown",
   "metadata": {},
   "source": [
    "### scatter plot (산점도)\n",
    "scatter()는 두 변수 간의 관계를 2차원 평면에 점의 집합으로 표시하는 플롯 유형인 분산형 차트를 만들 수 있는 함수입니다."
   ]
  },
  {
   "cell_type": "markdown",
   "metadata": {},
   "source": [
    "### data point 표시 및 연결\n",
    "plot()은 두 변수 간의 관계를 2차원 평면에 선으로 표시하는 플롯의 일종인 꺾은선형 플롯을 만들 수 있는 함수입니다."
   ]
  },
  {
   "cell_type": "markdown",
   "metadata": {
    "slideshow": {
     "slide_type": "slide"
    }
   },
   "source": [
    "### bar chart\n",
    "막대형 차트는 직사각형 막대를 사용하여 범주형 데이터를 표시하며, 각 막대의 높이 또는 길이는 표시되는 값에 비례합니다."
   ]
  },
  {
   "cell_type": "markdown",
   "metadata": {},
   "source": [
    "### 수평 bar chart"
   ]
  },
  {
   "cell_type": "markdown",
   "metadata": {
    "slideshow": {
     "slide_type": "slide"
    }
   },
   "source": [
    "## histogram\n",
    "히스토그램은 데이터 집합의 분포를 그래픽으로 표현한 것으로, 구간차원 집합에서 값의 발생 빈도를 보여줍니다."
   ]
  },
  {
   "cell_type": "markdown",
   "metadata": {},
   "source": [
    "## Pie Chart\n",
    "\n",
    "- explode는 부채꼴이 파이 차트의 중심에서 벗어나는 정도를 설정합니다.\n",
    "\n",
    "- autopct는 부채꼴 안에 표시될 숫자의 형식을 지정합니다. `%1.1f%%`로 설정하여 슬라이스의 값을 소수점 이하 1자리에서 백분율로 서식을 지정합니다."
   ]
  },
  {
   "cell_type": "markdown",
   "metadata": {},
   "source": [
    "## Random walk 시각화\n",
    "\n",
    "랜덤 워크는 무작위 시퀀스에 의해 결정되는 경로를 모델링하는 확률적 프로세스(확률적 프로세스)입니다. 2차원에서 랜덤 워크는 각 단계가 임의의 방향과 크기로 결정되는 평면상의 경로로 시각화할 수 있습니다.   \n",
    "`np.random.randint`는 지정된 범위에서 임의의 정수를 생성하는 NumPy 함수입니다.  \n",
    "`numpy.cumsum`은 배열의 누적 합계를 반환하는 NumPy의 함수입니다."
   ]
  },
  {
   "cell_type": "markdown",
   "metadata": {},
   "source": [
    "### 다중 random walk 시각화"
   ]
  },
  {
   "cell_type": "markdown",
   "metadata": {},
   "source": [
    "## Stack Plot\n",
    "\n",
    "- 스택 플롯은 각 부분이 전체를 구성하는 방식을 쉽게 시각화하여 전체 데이터 세트를 보여주는 플롯입니다.\n",
    "\n",
    "- 스택 플롯의 각 구성 요소는 서로 겹쳐집니다.\n",
    "\n",
    "- 전체 단위뿐만 아니라 단위의 부분 구성을 보여줍니다."
   ]
  },
  {
   "cell_type": "markdown",
   "metadata": {
    "slideshow": {
     "slide_type": "slide"
    }
   },
   "source": [
    "## OOP style\n",
    "\n",
    "플롯 객체를 생성하고 해당 메서드를 호출하여 속성을 설정하는 객체 지향 인터페이스를 기반으로 합니다."
   ]
  },
  {
   "cell_type": "markdown",
   "metadata": {
    "slideshow": {
     "slide_type": "slide"
    }
   },
   "source": [
    "## multiple subplots"
   ]
  },
  {
   "cell_type": "markdown",
   "metadata": {
    "slideshow": {
     "slide_type": "slide"
    }
   },
   "source": [
    "**y = x + noise 인 (x, y) 쌍의 toy data 생성**\n",
    "\n",
    "`np.column_stack`은 1D 배열을 2D 배열로 열로 스택하는 NumPy 함수입니다. 이 함수는 1D 배열 시퀀스를 입력으로 받아 입력 배열과 길이가 같은 2D 배열을 반환합니다. 입력 배열은 열로 가로로 쌓입니다."
   ]
  },
  {
   "cell_type": "markdown",
   "metadata": {},
   "source": [
    "plt.subplots() 는 OOP style 에서 pyplot 을 이용하는 유일한 경우입니다.  \n",
    "`yaxis.tick_right()`는 y축 눈금이 플롯의 왼쪽이 아닌 오른쪽에 나타나도록 설정하는 Matplotlib의 메서드입니다.  \n",
    "`plt.tight_layout()`은 텍스트와 레이블이 겹치지 않도록 하위 플롯 사이 또는 플롯과 그림 가장자리 사이의 패딩을 자동으로 조정하는 Matplotlib의 함수입니다. 이 함수는 매개변수를 받지 않고 현재 그림의 레이아웃을 조정합니다."
   ]
  },
  {
   "cell_type": "markdown",
   "metadata": {},
   "source": [
    "- 동일한 plot 을 함수형 방식으로 그릴 수 있습니다."
   ]
  },
  {
   "cell_type": "markdown",
   "metadata": {},
   "source": [
    "### subplots axis 지정 방법"
   ]
  },
  {
   "cell_type": "markdown",
   "metadata": {},
   "source": [
    "방법1 : ax 를 4 개의 axis 로 나눕니다."
   ]
  },
  {
   "cell_type": "markdown",
   "metadata": {},
   "source": [
    "방법2 : row 당 1 개의 tuple 로 반환 받습니다."
   ]
  },
  {
   "cell_type": "markdown",
   "metadata": {},
   "source": [
    "## axis 공유\n",
    "sharex와 sharey는 그림의 하위 플롯 간에 x축 또는 y축을 공유할 수 있는 Matplotlib의 매개 변수입니다. sharex=True 또는 sharey=True로 설정하면 하위 플롯이 각각 동일한 x축 또는 y축을 공유하게 됩니다."
   ]
  },
  {
   "cell_type": "markdown",
   "metadata": {},
   "source": [
    "4개의 subplot 에 histogram을 그려 봅니다.  \n",
    "각 axis를 하나의 list로 통합하면 for-loop을 이용하여 효율적으로 plot할 수 있습니다."
   ]
  },
  {
   "cell_type": "markdown",
   "metadata": {},
   "source": [
    "## gridspec 을 이용한 subplot customization\n",
    "GridSpec은 그리드에서 하위 플롯의 레이아웃을 지정할 수 있는 Matplotlib의 클래스입니다.  \n",
    "- gridspec 패키지를 사용하여 플롯의 여백과 개별 서브 플로트 간의 간격을 쉽게 제어할 수 있습니다.\n",
    "\n",
    "- 동일한 그림에 다른 크기의 축을 허용합니다.\n",
    "\n",
    "<img src=\"empty_gridspec.webp\" width=\"300\">\n",
    "<img src=\"empty_gridspec_annot.webp\" width=\"300\">"
   ]
  },
  {
   "cell_type": "markdown",
   "metadata": {},
   "source": [
    "처음에 3x3 크기의 grid를 만들고 grid를 합하여 subplot을 생성해 보겠습니다."
   ]
  },
  {
   "cell_type": "markdown",
   "metadata": {},
   "source": [
    "### Box and Whisker Plots (상자 수염 그림) \n",
    "\n",
    "- 5가지 통계 요약 수치 (최솟값, 제 1사분위, 제 2사분위, 제 3사분위, 최댓값) 로 시각화 합니다.\n",
    "```\n",
    "    Q1-1.5IQR   Q1  median  Q3   Q3+1.5IQR\n",
    "                          |---------:------|\n",
    "       o      |--------|           :       |--------|    o  o\n",
    "                          |---------:------|\n",
    "     flier               <-------------->            fliers\n",
    "                                 IQR\n",
    "```"
   ]
  },
  {
   "cell_type": "markdown",
   "metadata": {},
   "source": [
    "whis  : 기본값은 1.5 입니다. 아래쪽 수염은 가장 낮은 수치인 ``Q1 - whis*(Q3-Q1)``의 위쪽에 수염이 있고, 위쪽 수염은 가장 높은 수치인 ``Q3 + whis*(Q3-Q1)`` 아래에 있으며, 여기서 Q1과 Q3은 1, 3 사분위수입니다. 수염을 벗어난 데이터는 이상값으로 간주되어 개별 점으로 플롯됩니다. whis=(0, 100)으로 설정하면 데이터의 전체 범위를 포괄하는 수염이 그려집니다."
   ]
  },
  {
   "cell_type": "markdown",
   "metadata": {},
   "source": [
    "## Word Cloud \n",
    "\n",
    "`Word Cloud` (텍스트 클라우드 또는 태그 클라우드라고도 함)는 간단한 방식으로 작동합니다. 텍스트 데이터 소스 (예 : 음성, 블로그 게시물 또는 데이터베이스)에 특정 단어가 더 많이 나타날수록 더 크고 굵게 표시됩니다. \n",
    "\n",
    "`Word Cloud`는 일반적으로 텍스트 데이터의 고급 분석 및 시각화를 수행하는 데 사용됩니다. *이상한 나라의 엘리스*라는 단편 소설을 분석해 보겠습니다."
   ]
  },
  {
   "cell_type": "markdown",
   "metadata": {},
   "source": [
    "다음으로 `wordcloud`에서 가져온 불용어를 사용하겠습니다. *set* 함수를 사용하여 중복 불용어를 제거합니다."
   ]
  },
  {
   "cell_type": "markdown",
   "metadata": {},
   "source": [
    "단어 구름 개체를 만들고 단어 구름을 생성합니다. 단순화를 위해 소설의 처음 2000 개 단어 만 사용하여 단어 구름을 생성 해 보겠습니다."
   ]
  },
  {
   "cell_type": "markdown",
   "metadata": {},
   "source": [
    "소설의 처음 2000 개 단어에서 가장 일반적인 단어는 **Alice**, **said**, **little**, **Queen** 등 입니다. **said**은 실제로 유용한 단어가 아닙니다. 이제 불용어에 추가하고 클라우드를 다시 생성 해 보겠습니다.\n",
    "\n",
    "자주 사용하지 않는 단어를 조금 더 잘 볼 수 있도록 클라우드 크기를 조정 해 보겠습니다."
   ]
  },
  {
   "cell_type": "markdown",
   "metadata": {},
   "source": [
    "`word_cloud` 패키지로 구현할 수있는 또 다른 멋진 기능은 모든 모양의 마스크에 단어를 겹쳐 놓는 것입니다. "
   ]
  },
  {
   "cell_type": "markdown",
   "metadata": {},
   "source": [
    "## 실전 문제\n",
    "\n",
    "Data Science 분야에 대한 관심도 조사 결과를 시각화해 봅니다."
   ]
  },
  {
   "cell_type": "markdown",
   "metadata": {},
   "source": [
    "1 단계 - 관심도 높은 순서로 정렬합니다."
   ]
  },
  {
   "cell_type": "markdown",
   "metadata": {},
   "source": [
    "2 단계 - 응답한 숫자를 전체 응답 숫자에 대한 비율로 전환합니다. 먼저 각 row의 합계를 구하고 이 것을 이용하여 해당 row의 column 값들을 나눈 후 100을 곱해 백분율을 구합니다."
   ]
  },
  {
   "cell_type": "markdown",
   "metadata": {},
   "source": [
    "- 각 column 값을 백분율 전환"
   ]
  },
  {
   "cell_type": "markdown",
   "metadata": {},
   "source": [
    "3 단계 - 조사 분야별로 bar chart를 작성하여 비교합니다.\n",
    "\n",
    "- x 축 : 조사 분야  \n",
    "- y 축 : 응답 비율  \n",
    "- column 별로 색 구분하여 bar chart  plot"
   ]
  }
 ],
 "metadata": {
  "kernelspec": {
   "display_name": "Python 3 (ipykernel)",
   "language": "python",
   "name": "python3"
  },
  "language_info": {
   "codemirror_mode": {
    "name": "ipython",
    "version": 3
   },
   "file_extension": ".py",
   "mimetype": "text/x-python",
   "name": "python",
   "nbconvert_exporter": "python",
   "pygments_lexer": "ipython3",
   "version": "3.9.13"
  }
 },
 "nbformat": 4,
 "nbformat_minor": 2
}
